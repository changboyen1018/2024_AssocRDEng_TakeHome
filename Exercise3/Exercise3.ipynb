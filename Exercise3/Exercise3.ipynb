{
  "cells": [
    {
      "cell_type": "code",
      "execution_count": 2,
      "metadata": {
        "colab": {
          "base_uri": "https://localhost:8080/"
        },
        "id": "4rQ3Bjimr_T7",
        "outputId": "986f394a-568b-4b27-9df1-1a872626fbed"
      },
      "outputs": [
        {
          "name": "stdout",
          "output_type": "stream",
          "text": [
            "Requirement already satisfied: cellpose in /Users/changboyen/miniconda3/lib/python3.12/site-packages (3.0.7)\n",
            "Requirement already satisfied: numpy>=1.20.0 in /Users/changboyen/miniconda3/lib/python3.12/site-packages (from cellpose) (1.26.4)\n",
            "Requirement already satisfied: scipy in /Users/changboyen/miniconda3/lib/python3.12/site-packages (from cellpose) (1.13.0)\n",
            "Requirement already satisfied: natsort in /Users/changboyen/miniconda3/lib/python3.12/site-packages (from cellpose) (8.4.0)\n",
            "Requirement already satisfied: tifffile in /Users/changboyen/miniconda3/lib/python3.12/site-packages (from cellpose) (2024.2.12)\n",
            "Requirement already satisfied: tqdm in /Users/changboyen/miniconda3/lib/python3.12/site-packages (from cellpose) (4.65.0)\n",
            "Requirement already satisfied: numba>=0.53.0 in /Users/changboyen/miniconda3/lib/python3.12/site-packages (from cellpose) (0.59.1)\n",
            "Requirement already satisfied: llvmlite in /Users/changboyen/miniconda3/lib/python3.12/site-packages (from cellpose) (0.42.0)\n",
            "Requirement already satisfied: torch>=1.6 in /Users/changboyen/miniconda3/lib/python3.12/site-packages (from cellpose) (2.2.2)\n",
            "Requirement already satisfied: opencv-python-headless in /Users/changboyen/miniconda3/lib/python3.12/site-packages (from cellpose) (4.9.0.80)\n",
            "Requirement already satisfied: fastremap in /Users/changboyen/miniconda3/lib/python3.12/site-packages (from cellpose) (1.14.1)\n",
            "Requirement already satisfied: imagecodecs in /Users/changboyen/miniconda3/lib/python3.12/site-packages (from cellpose) (2024.1.1)\n",
            "Requirement already satisfied: roifile in /Users/changboyen/miniconda3/lib/python3.12/site-packages (from cellpose) (2024.3.20)\n",
            "Requirement already satisfied: filelock in /Users/changboyen/miniconda3/lib/python3.12/site-packages (from torch>=1.6->cellpose) (3.13.3)\n",
            "Requirement already satisfied: typing-extensions>=4.8.0 in /Users/changboyen/miniconda3/lib/python3.12/site-packages (from torch>=1.6->cellpose) (4.10.0)\n",
            "Requirement already satisfied: sympy in /Users/changboyen/miniconda3/lib/python3.12/site-packages (from torch>=1.6->cellpose) (1.12)\n",
            "Requirement already satisfied: networkx in /Users/changboyen/miniconda3/lib/python3.12/site-packages (from torch>=1.6->cellpose) (3.2.1)\n",
            "Requirement already satisfied: jinja2 in /Users/changboyen/miniconda3/lib/python3.12/site-packages (from torch>=1.6->cellpose) (3.1.3)\n",
            "Requirement already satisfied: fsspec in /Users/changboyen/miniconda3/lib/python3.12/site-packages (from torch>=1.6->cellpose) (2024.3.1)\n",
            "Requirement already satisfied: MarkupSafe>=2.0 in /Users/changboyen/miniconda3/lib/python3.12/site-packages (from jinja2->torch>=1.6->cellpose) (2.1.5)\n",
            "Requirement already satisfied: mpmath>=0.19 in /Users/changboyen/miniconda3/lib/python3.12/site-packages (from sympy->torch>=1.6->cellpose) (1.3.0)\n",
            "Requirement already satisfied: opencv-python-headless in /Users/changboyen/miniconda3/lib/python3.12/site-packages (4.9.0.80)\n",
            "Requirement already satisfied: numpy>=1.21.2 in /Users/changboyen/miniconda3/lib/python3.12/site-packages (from opencv-python-headless) (1.26.4)\n",
            "Requirement already satisfied: scikit-image in /Users/changboyen/miniconda3/lib/python3.12/site-packages (0.22.0)\n",
            "Requirement already satisfied: numpy>=1.22 in /Users/changboyen/miniconda3/lib/python3.12/site-packages (from scikit-image) (1.26.4)\n",
            "Requirement already satisfied: scipy>=1.8 in /Users/changboyen/miniconda3/lib/python3.12/site-packages (from scikit-image) (1.13.0)\n",
            "Requirement already satisfied: networkx>=2.8 in /Users/changboyen/miniconda3/lib/python3.12/site-packages (from scikit-image) (3.2.1)\n",
            "Requirement already satisfied: pillow>=9.0.1 in /Users/changboyen/miniconda3/lib/python3.12/site-packages (from scikit-image) (10.3.0)\n",
            "Requirement already satisfied: imageio>=2.27 in /Users/changboyen/miniconda3/lib/python3.12/site-packages (from scikit-image) (2.34.0)\n",
            "Requirement already satisfied: tifffile>=2022.8.12 in /Users/changboyen/miniconda3/lib/python3.12/site-packages (from scikit-image) (2024.2.12)\n",
            "Requirement already satisfied: packaging>=21 in /Users/changboyen/miniconda3/lib/python3.12/site-packages (from scikit-image) (23.1)\n",
            "Requirement already satisfied: lazy_loader>=0.3 in /Users/changboyen/miniconda3/lib/python3.12/site-packages (from scikit-image) (0.3)\n",
            "Requirement already satisfied: matplotlib in /Users/changboyen/miniconda3/lib/python3.12/site-packages (3.8.4)\n",
            "Requirement already satisfied: contourpy>=1.0.1 in /Users/changboyen/miniconda3/lib/python3.12/site-packages (from matplotlib) (1.2.1)\n",
            "Requirement already satisfied: cycler>=0.10 in /Users/changboyen/miniconda3/lib/python3.12/site-packages (from matplotlib) (0.12.1)\n",
            "Requirement already satisfied: fonttools>=4.22.0 in /Users/changboyen/miniconda3/lib/python3.12/site-packages (from matplotlib) (4.51.0)\n",
            "Requirement already satisfied: kiwisolver>=1.3.1 in /Users/changboyen/miniconda3/lib/python3.12/site-packages (from matplotlib) (1.4.5)\n",
            "Requirement already satisfied: numpy>=1.21 in /Users/changboyen/miniconda3/lib/python3.12/site-packages (from matplotlib) (1.26.4)\n",
            "Requirement already satisfied: packaging>=20.0 in /Users/changboyen/miniconda3/lib/python3.12/site-packages (from matplotlib) (23.1)\n",
            "Requirement already satisfied: pillow>=8 in /Users/changboyen/miniconda3/lib/python3.12/site-packages (from matplotlib) (10.3.0)\n",
            "Requirement already satisfied: pyparsing>=2.3.1 in /Users/changboyen/miniconda3/lib/python3.12/site-packages (from matplotlib) (3.1.2)\n",
            "Requirement already satisfied: python-dateutil>=2.7 in /Users/changboyen/miniconda3/lib/python3.12/site-packages (from matplotlib) (2.9.0)\n",
            "Requirement already satisfied: six>=1.5 in /Users/changboyen/miniconda3/lib/python3.12/site-packages (from python-dateutil>=2.7->matplotlib) (1.16.0)\n"
          ]
        }
      ],
      "source": [
        "!pip install cellpose\n",
        "!pip install opencv-python-headless\n",
        "!pip install scikit-image\n",
        "!pip install matplotlib"
      ]
    },
    {
      "cell_type": "code",
      "execution_count": 27,
      "metadata": {
        "id": "LqCYiOlE0sNX"
      },
      "outputs": [
        {
          "data": {
            "image/png": "[encoded data removed]",
            "text/plain": [
              "<Figure size 640x480 with 1 Axes>"
            ]
          },
          "metadata": {},
          "output_type": "display_data"
        },
        {
          "data": {
            "text/plain": [
              "<Figure size 640x480 with 0 Axes>"
            ]
          },
          "metadata": {},
          "output_type": "display_data"
        }
      ],
      "source": [
        "from cellpose import models\n",
        "from skimage import io, measure\n",
        "import matplotlib.pyplot as plt\n",
        "\n",
        "\n",
        "# Load the model\n",
        "model = models.Cellpose(gpu=False, model_type='nuclei')\n",
        "\n",
        "# Read all images from the TIFF file\n",
        "images_path = '/Users/changboyen/Downloads/2024_AssocRDEng_TakeHome/Exercise3/Assoc_RDEng_test.tif'  \n",
        "images = io.imread(images_path)\n",
        "\n",
        "# Ensure images is a list of 2D arrays\n",
        "if images.ndim == 3:\n",
        "    # If the image is 3D (multiple channels or Z-stacks), select the first channel or Z-slice\n",
        "    images = [img[0] if img.ndim == 3 else img for img in images]\n",
        "\n",
        "\n",
        "# Process the images with Cellpose\n",
        "masks, flows, styles, diams = model.eval(images, diameter=None, flow_threshold=None, channels=[0,0])\n",
        "\n",
        "# Calculate eccentricities for all images\n",
        "eccentricities = []\n",
        "for mask in masks:\n",
        "    props = measure.regionprops(mask)\n",
        "    eccentricities.extend([prop.eccentricity for prop in props])\n",
        "\n",
        "# Plot the histogram of eccentricities\n",
        "plt.hist(eccentricities, bins=20)\n",
        "plt.title('Eccentricity Histogram')\n",
        "plt.xlabel('Eccentricity')\n",
        "plt.ylabel('Frequency')\n",
        "\n",
        "# Save the histogram to a file\n",
        "save_path = '/Users/changboyen/Downloads/2024_AssocRDEng_TakeHome/Exercise3'  \n",
        "histogram_filename = f'{save_path}/eccentricity_histogram.png'\n",
        "\n",
        "plt.savefig(histogram_filename)  \n",
        "\n",
        "plt.show()\n"
      ]
    }
  ],
  "metadata": {
    "colab": {
      "provenance": []
    },
    "kernelspec": {
      "display_name": "Python 3",
      "name": "python3"
    },
    "language_info": {
      "codemirror_mode": {
        "name": "ipython",
        "version": 3
      },
      "file_extension": ".py",
      "mimetype": "text/x-python",
      "name": "python",
      "nbconvert_exporter": "python",
      "pygments_lexer": "ipython3",
      "version": "3.12.2"
    }
  },
  "nbformat": 4,
  "nbformat_minor": 0
}
