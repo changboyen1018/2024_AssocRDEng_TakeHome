{
  "cells": [
    {
      "cell_type": "code",
      "execution_count": 46,
      "metadata": {},
      "outputs": [
        {
          "data": {
            "text/plain": [
              "'\\nWrite a python script to acquire a multidimensional dataset with 12 z slices spaced by 0.1 um, two channels: DAPI and FITC, \\nand 9 positions distributed in a 3x3 grid with 500 um spacing.\\n\\nTo control MicroManager from python, you can use [pycromanager](https://pycro-manager.readthedocs.io/en/latest/), \\n[pymmcore-plus](https://pymmcore-plus.github.io/pymmcore-plus/), or call the MicroManager [Core](https://micro-manager.org/apidoc/mmcorej/latest/mmcorej/CMMCore.html) \\nand [Studio](https://micro-manager.org/apidoc/mmstudio/latest/org/micromanager/Studio.html) API directly. Save the dataset at a .tif file.\\n'"
            ]
          },
          "execution_count": 46,
          "metadata": {},
          "output_type": "execute_result"
        }
      ],
      "source": [
        "### Exercise1 ###\n",
        "'''\n",
        "Write a python script to acquire a multidimensional dataset with 12 z slices spaced by 0.1 um, two channels: DAPI and FITC, \n",
        "and 9 positions distributed in a 3x3 grid with 500 um spacing.\n",
        "\n",
        "To control MicroManager from python, you can use [pycromanager](https://pycro-manager.readthedocs.io/en/latest/), \n",
        "[pymmcore-plus](https://pymmcore-plus.github.io/pymmcore-plus/), or call the MicroManager [Core](https://micro-manager.org/apidoc/mmcorej/latest/mmcorej/CMMCore.html) \n",
        "and [Studio](https://micro-manager.org/apidoc/mmstudio/latest/org/micromanager/Studio.html) API directly. Save the dataset at a .tif file.\n",
        "'''\n"
      ]
    },
    {
      "cell_type": "code",
      "execution_count": 47,
      "metadata": {},
      "outputs": [
        {
          "name": "stdout",
          "output_type": "stream",
          "text": [
            "Requirement already satisfied: pycromanager in /Users/changboyen/miniconda3/lib/python3.12/site-packages (0.30.3)\n",
            "Requirement already satisfied: numpy in /Users/changboyen/miniconda3/lib/python3.12/site-packages (from pycromanager) (1.26.4)\n",
            "Requirement already satisfied: dask>=2022.2.0 in /Users/changboyen/miniconda3/lib/python3.12/site-packages (from dask[array]>=2022.2.0->pycromanager) (2024.4.0)\n",
            "Requirement already satisfied: pyzmq in /Users/changboyen/miniconda3/lib/python3.12/site-packages (from pycromanager) (25.1.1)\n",
            "Requirement already satisfied: ndtiff>=2.2.0 in /Users/changboyen/miniconda3/lib/python3.12/site-packages (from pycromanager) (2.2.1)\n",
            "Requirement already satisfied: docstring-inheritance in /Users/changboyen/miniconda3/lib/python3.12/site-packages (from pycromanager) (2.2.0)\n",
            "Requirement already satisfied: pymmcore in /Users/changboyen/miniconda3/lib/python3.12/site-packages (from pycromanager) (11.1.1.71.0)\n",
            "Requirement already satisfied: sortedcontainers in /Users/changboyen/miniconda3/lib/python3.12/site-packages (from pycromanager) (2.4.0)\n",
            "Requirement already satisfied: pyjavaz==1.1.0 in /Users/changboyen/miniconda3/lib/python3.12/site-packages (from pycromanager) (1.1.0)\n",
            "Requirement already satisfied: click>=8.1 in /Users/changboyen/miniconda3/lib/python3.12/site-packages (from dask>=2022.2.0->dask[array]>=2022.2.0->pycromanager) (8.1.7)\n",
            "Requirement already satisfied: cloudpickle>=1.5.0 in /Users/changboyen/miniconda3/lib/python3.12/site-packages (from dask>=2022.2.0->dask[array]>=2022.2.0->pycromanager) (3.0.0)\n",
            "Requirement already satisfied: fsspec>=2021.09.0 in /Users/changboyen/miniconda3/lib/python3.12/site-packages (from dask>=2022.2.0->dask[array]>=2022.2.0->pycromanager) (2024.3.1)\n",
            "Requirement already satisfied: packaging>=20.0 in /Users/changboyen/miniconda3/lib/python3.12/site-packages (from dask>=2022.2.0->dask[array]>=2022.2.0->pycromanager) (23.1)\n",
            "Requirement already satisfied: partd>=1.2.0 in /Users/changboyen/miniconda3/lib/python3.12/site-packages (from dask>=2022.2.0->dask[array]>=2022.2.0->pycromanager) (1.4.1)\n",
            "Requirement already satisfied: pyyaml>=5.3.1 in /Users/changboyen/miniconda3/lib/python3.12/site-packages (from dask>=2022.2.0->dask[array]>=2022.2.0->pycromanager) (6.0.1)\n",
            "Requirement already satisfied: toolz>=0.10.0 in /Users/changboyen/miniconda3/lib/python3.12/site-packages (from dask>=2022.2.0->dask[array]>=2022.2.0->pycromanager) (0.12.1)\n",
            "Requirement already satisfied: locket in /Users/changboyen/miniconda3/lib/python3.12/site-packages (from partd>=1.2.0->dask>=2022.2.0->dask[array]>=2022.2.0->pycromanager) (1.0.0)\n",
            "Requirement already satisfied: pycromanager in /Users/changboyen/miniconda3/lib/python3.12/site-packages (0.30.3)\n",
            "Requirement already satisfied: numpy in /Users/changboyen/miniconda3/lib/python3.12/site-packages (from pycromanager) (1.26.4)\n",
            "Requirement already satisfied: dask>=2022.2.0 in /Users/changboyen/miniconda3/lib/python3.12/site-packages (from dask[array]>=2022.2.0->pycromanager) (2024.4.0)\n",
            "Requirement already satisfied: pyzmq in /Users/changboyen/miniconda3/lib/python3.12/site-packages (from pycromanager) (25.1.1)\n",
            "Requirement already satisfied: ndtiff>=2.2.0 in /Users/changboyen/miniconda3/lib/python3.12/site-packages (from pycromanager) (2.2.1)\n",
            "Requirement already satisfied: docstring-inheritance in /Users/changboyen/miniconda3/lib/python3.12/site-packages (from pycromanager) (2.2.0)\n",
            "Requirement already satisfied: pymmcore in /Users/changboyen/miniconda3/lib/python3.12/site-packages (from pycromanager) (11.1.1.71.0)\n",
            "Requirement already satisfied: sortedcontainers in /Users/changboyen/miniconda3/lib/python3.12/site-packages (from pycromanager) (2.4.0)\n",
            "Requirement already satisfied: pyjavaz==1.1.0 in /Users/changboyen/miniconda3/lib/python3.12/site-packages (from pycromanager) (1.1.0)\n",
            "Requirement already satisfied: click>=8.1 in /Users/changboyen/miniconda3/lib/python3.12/site-packages (from dask>=2022.2.0->dask[array]>=2022.2.0->pycromanager) (8.1.7)\n",
            "Requirement already satisfied: cloudpickle>=1.5.0 in /Users/changboyen/miniconda3/lib/python3.12/site-packages (from dask>=2022.2.0->dask[array]>=2022.2.0->pycromanager) (3.0.0)\n",
            "Requirement already satisfied: fsspec>=2021.09.0 in /Users/changboyen/miniconda3/lib/python3.12/site-packages (from dask>=2022.2.0->dask[array]>=2022.2.0->pycromanager) (2024.3.1)\n",
            "Requirement already satisfied: packaging>=20.0 in /Users/changboyen/miniconda3/lib/python3.12/site-packages (from dask>=2022.2.0->dask[array]>=2022.2.0->pycromanager) (23.1)\n",
            "Requirement already satisfied: partd>=1.2.0 in /Users/changboyen/miniconda3/lib/python3.12/site-packages (from dask>=2022.2.0->dask[array]>=2022.2.0->pycromanager) (1.4.1)\n",
            "Requirement already satisfied: pyyaml>=5.3.1 in /Users/changboyen/miniconda3/lib/python3.12/site-packages (from dask>=2022.2.0->dask[array]>=2022.2.0->pycromanager) (6.0.1)\n",
            "Requirement already satisfied: toolz>=0.10.0 in /Users/changboyen/miniconda3/lib/python3.12/site-packages (from dask>=2022.2.0->dask[array]>=2022.2.0->pycromanager) (0.12.1)\n",
            "Requirement already satisfied: locket in /Users/changboyen/miniconda3/lib/python3.12/site-packages (from partd>=1.2.0->dask>=2022.2.0->dask[array]>=2022.2.0->pycromanager) (1.0.0)\n"
          ]
        }
      ],
      "source": [
        "!pip install pycromanager\n",
        "!pip install pycromanager --upgrade"
      ]
    },
    {
      "cell_type": "code",
      "execution_count": 48,
      "metadata": {
        "id": "tpp4x1fkUg1p"
      },
      "outputs": [],
      "source": [
        "import pycromanager\n",
        "from pycromanager import Acquisition, multi_d_acquisition_events\n",
        "import numpy as np\n",
        "\n",
        "\n",
        "'''\n",
        "# 1. For the Z-axis acquisition\n",
        "#   this code block was inspired by the example at\n",
        "#   https://github.com/micro-manager/pycro-manager/blob/main/tutorial/Pycro-Manager%20acquisitions%20tutorial.ipynb\n",
        "#   but extract the paramerters out first\n",
        "'''\n",
        "\n",
        "# Define acquisition parameters \n",
        "# (place params togather for easier preserved and clarification)\n",
        "z_step = 0.1 #µm\n",
        "num_z_slices = 12  # num of slices at Z-axis\n",
        "spacing = 500  # XY spacing interval\n",
        "channels = ['DAPI', 'FITC']  # channel list\n",
        "\n",
        "\n",
        "'''\n",
        "# 2. For the XY-axis acquisition\n",
        "#   Conceptualized by myself, assisted by ChatGPT\n",
        "\n",
        "'''\n",
        "num_positions = 9\n",
        "grid_size = int(np.sqrt(num_positions))  # 3x3\n",
        "\n",
        "# To get accurate X,Y positions\n",
        "positions = [(i % grid_size * spacing, i // grid_size * spacing) for i in range(num_positions)]\n",
        "#positions = [{'x': i % grid_size * spacing, 'y': i // grid_size * spacing} for i in range(num_positions)]\n",
        "#positions = [{'x': i % grid_size * spacing, 'y': i // grid_size * spacing} for i in range(num_positions)]\n",
        "positions = [(i % grid_size * spacing, i // grid_size * spacing, 0) for i in range(num_positions)]\n"
      ]
    },
    {
      "cell_type": "code",
      "execution_count": 49,
      "metadata": {},
      "outputs": [],
      "source": [
        "# The directory where the data will be saved\n",
        "save_directory = '/Users/changboyen/Downloads/CZ_Hub_is_my_dreamplace/Exercise1'\n",
        "acquisition_name = 'my_acquisition'"
      ]
    },
    {
      "cell_type": "code",
      "execution_count": 50,
      "metadata": {},
      "outputs": [],
      "source": [
        "'''\n",
        "Pycromanager Using multi_d_acquisition_events was inferred from https://pycro-manager.readthedocs.io/en/latest/apis.html#pycromanager.multi_d_acquisition_events\n",
        "'''\n",
        "# Ｕsing multi_d_acquisition_events function to generate acqusition events\n",
        "events = multi_d_acquisition_events(\n",
        "    #num_time_points=1,  # Set as 1, \n",
        "    z_start=0, z_end=z_step*(num_z_slices-1), z_step=z_step,\n",
        "    #channel_group=channels,\n",
        "    channels=channels,\n",
        "    xy_positions=positions,\n",
        "    order='tpcz'  # Acqusition order: time, position, channel, z-axis\n",
        ")\n"
      ]
    },
    {
      "cell_type": "code",
      "execution_count": 54,
      "metadata": {},
      "outputs": [
        {
          "ename": "Exception",
          "evalue": "Incorrect arguments. \nExpected java.lang.String, java.lang.String, boolean, boolean, int, int, int, int, boolean \nGot <class 'str'>, <class 'str'>, <class 'bool'>, <class 'int'>, <class 'bool'>",
          "output_type": "error",
          "traceback": [
            "\u001b[0;31m---------------------------------------------------------------------------\u001b[0m",
            "\u001b[0;31mException\u001b[0m                                 Traceback (most recent call last)",
            "Cell \u001b[0;32mIn[54], line 6\u001b[0m\n\u001b[1;32m      1\u001b[0m \u001b[38;5;124;03m'''\u001b[39;00m\n\u001b[1;32m      2\u001b[0m \u001b[38;5;124;03m#   this code block was inspired by the example at\u001b[39;00m\n\u001b[1;32m      3\u001b[0m \u001b[38;5;124;03m#   https://github.com/micro-manager/pycro-manager/blob/main/tutorial/Pycro-Manager%20acquisitions%20tutorial.ipynb\u001b[39;00m\n\u001b[1;32m      4\u001b[0m \u001b[38;5;124;03m'''\u001b[39;00m\n\u001b[1;32m      5\u001b[0m \u001b[38;5;66;03m# Run the acquisition\u001b[39;00m\n\u001b[0;32m----> 6\u001b[0m \u001b[38;5;28;01mwith\u001b[39;00m \u001b[43mAcquisition\u001b[49m\u001b[43m(\u001b[49m\u001b[43mdirectory\u001b[49m\u001b[38;5;241;43m=\u001b[39;49m\u001b[43msave_directory\u001b[49m\u001b[43m,\u001b[49m\u001b[43m \u001b[49m\u001b[43mname\u001b[49m\u001b[38;5;241;43m=\u001b[39;49m\u001b[43macquisition_name\u001b[49m\u001b[43m)\u001b[49m \u001b[38;5;28;01mas\u001b[39;00m acq:\n\u001b[1;32m      7\u001b[0m     acq\u001b[38;5;241m.\u001b[39macquire(events)\n\u001b[1;32m      9\u001b[0m \u001b[38;5;66;03m# When the context manager exits the acquisition is complete and the data is saved\u001b[39;00m\n",
            "File \u001b[0;32m~/miniconda3/lib/python3.12/site-packages/pycromanager/acquisition/acq_constructor.py:45\u001b[0m, in \u001b[0;36mAcquisition.__new__\u001b[0;34m(cls, directory, name, image_process_fn, event_generation_hook_fn, pre_hardware_hook_fn, post_hardware_hook_fn, post_camera_hook_fn, notification_callback_fn, image_saved_fn, napari_viewer, debug, **kwargs)\u001b[0m\n\u001b[1;32m     43\u001b[0m     \u001b[38;5;28;01mif\u001b[39;00m name \u001b[38;5;129;01min\u001b[39;00m kwargs:\n\u001b[1;32m     44\u001b[0m         named_args[name] \u001b[38;5;241m=\u001b[39m kwargs[name]\n\u001b[0;32m---> 45\u001b[0m \u001b[38;5;28;01mreturn\u001b[39;00m \u001b[43mJavaBackendAcquisition\u001b[49m\u001b[43m(\u001b[49m\u001b[38;5;241;43m*\u001b[39;49m\u001b[38;5;241;43m*\u001b[39;49m\u001b[43mnamed_args\u001b[49m\u001b[43m)\u001b[49m\n",
            "File \u001b[0;32m~/miniconda3/lib/python3.12/site-packages/pycromanager/acquisition/java_backend_acquisitions.py:269\u001b[0m, in \u001b[0;36mJavaBackendAcquisition.__init__\u001b[0;34m(self, directory, name, image_process_fn, event_generation_hook_fn, pre_hardware_hook_fn, post_hardware_hook_fn, post_camera_hook_fn, notification_callback_fn, image_saved_fn, show_display, napari_viewer, saving_queue_size, timeout, port, debug)\u001b[0m\n\u001b[1;32m    266\u001b[0m \u001b[38;5;28mself\u001b[39m\u001b[38;5;241m.\u001b[39m_nd_viewer \u001b[38;5;241m=\u001b[39m \u001b[38;5;28;01mNone\u001b[39;00m\n\u001b[1;32m    268\u001b[0m \u001b[38;5;28mself\u001b[39m\u001b[38;5;241m.\u001b[39m_create_event_queue()\n\u001b[0;32m--> 269\u001b[0m \u001b[38;5;28;43mself\u001b[39;49m\u001b[38;5;241;43m.\u001b[39;49m\u001b[43m_create_remote_acquisition\u001b[49m\u001b[43m(\u001b[49m\u001b[38;5;241;43m*\u001b[39;49m\u001b[38;5;241;43m*\u001b[39;49m\u001b[43mnamed_args\u001b[49m\u001b[43m)\u001b[49m\n\u001b[1;32m    270\u001b[0m \u001b[38;5;28mself\u001b[39m\u001b[38;5;241m.\u001b[39m_initialize_image_processor(\u001b[38;5;241m*\u001b[39m\u001b[38;5;241m*\u001b[39mnamed_args)\n\u001b[1;32m    271\u001b[0m \u001b[38;5;28mself\u001b[39m\u001b[38;5;241m.\u001b[39m_initialize_hooks(\u001b[38;5;241m*\u001b[39m\u001b[38;5;241m*\u001b[39mnamed_args)\n",
            "File \u001b[0;32m~/miniconda3/lib/python3.12/site-packages/pycromanager/acquisition/java_backend_acquisitions.py:515\u001b[0m, in \u001b[0;36mJavaBackendAcquisition._create_remote_acquisition\u001b[0;34m(self, **kwargs)\u001b[0m\n\u001b[1;32m    509\u001b[0m acq_factory \u001b[38;5;241m=\u001b[39m JavaObject(\u001b[38;5;124m\"\u001b[39m\u001b[38;5;124morg.micromanager.remote.RemoteAcquisitionFactory\u001b[39m\u001b[38;5;124m\"\u001b[39m,\n\u001b[1;32m    510\u001b[0m     \u001b[38;5;66;03m# create a new socket for it to run on so that it can have blocking calls without interfering with\u001b[39;00m\n\u001b[1;32m    511\u001b[0m     \u001b[38;5;66;03m# the main socket or other internal sockets\u001b[39;00m\n\u001b[1;32m    512\u001b[0m     new_socket\u001b[38;5;241m=\u001b[39m\u001b[38;5;28;01mTrue\u001b[39;00m,\n\u001b[1;32m    513\u001b[0m     port\u001b[38;5;241m=\u001b[39m\u001b[38;5;28mself\u001b[39m\u001b[38;5;241m.\u001b[39m_port, args\u001b[38;5;241m=\u001b[39m[core], debug\u001b[38;5;241m=\u001b[39m\u001b[38;5;28mself\u001b[39m\u001b[38;5;241m.\u001b[39m_debug, timeout\u001b[38;5;241m=\u001b[39m\u001b[38;5;28mself\u001b[39m\u001b[38;5;241m.\u001b[39m_timeout)\n\u001b[1;32m    514\u001b[0m show_viewer \u001b[38;5;241m=\u001b[39m kwargs[\u001b[38;5;124m'\u001b[39m\u001b[38;5;124mshow_display\u001b[39m\u001b[38;5;124m'\u001b[39m] \u001b[38;5;129;01mis\u001b[39;00m \u001b[38;5;28;01mTrue\u001b[39;00m \u001b[38;5;129;01mand\u001b[39;00m kwargs[\u001b[38;5;124m'\u001b[39m\u001b[38;5;124mnapari_viewer\u001b[39m\u001b[38;5;124m'\u001b[39m] \u001b[38;5;129;01mis\u001b[39;00m \u001b[38;5;28;01mNone\u001b[39;00m\n\u001b[0;32m--> 515\u001b[0m \u001b[38;5;28mself\u001b[39m\u001b[38;5;241m.\u001b[39m_acq \u001b[38;5;241m=\u001b[39m \u001b[43macq_factory\u001b[49m\u001b[38;5;241;43m.\u001b[39;49m\u001b[43mcreate_acquisition\u001b[49m\u001b[43m(\u001b[49m\u001b[43mkwargs\u001b[49m\u001b[43m[\u001b[49m\u001b[38;5;124;43m'\u001b[39;49m\u001b[38;5;124;43mdirectory\u001b[39;49m\u001b[38;5;124;43m'\u001b[39;49m\u001b[43m]\u001b[49m\u001b[43m,\u001b[49m\u001b[43m \u001b[49m\u001b[43mkwargs\u001b[49m\u001b[43m[\u001b[49m\u001b[38;5;124;43m'\u001b[39;49m\u001b[38;5;124;43mname\u001b[39;49m\u001b[38;5;124;43m'\u001b[39;49m\u001b[43m]\u001b[49m\u001b[43m,\u001b[49m\u001b[43m \u001b[49m\u001b[43mshow_viewer\u001b[49m\u001b[43m,\u001b[49m\n\u001b[1;32m    516\u001b[0m \u001b[43m                                           \u001b[49m\u001b[43mkwargs\u001b[49m\u001b[43m[\u001b[49m\u001b[38;5;124;43m'\u001b[39;49m\u001b[38;5;124;43msaving_queue_size\u001b[39;49m\u001b[38;5;124;43m'\u001b[39;49m\u001b[43m]\u001b[49m\u001b[43m,\u001b[49m\u001b[43m \u001b[49m\u001b[38;5;28;43mself\u001b[39;49m\u001b[38;5;241;43m.\u001b[39;49m\u001b[43m_debug\u001b[49m\u001b[43m,\u001b[49m\u001b[43m)\u001b[49m\n",
            "File \u001b[0;32m~/miniconda3/lib/python3.12/site-packages/pyjavaz/bridge.py:488\u001b[0m, in \u001b[0;36m_JavaClassFactory.create.<locals>.<lambda>\u001b[0;34m(instance, signatures_list, *args)\u001b[0m\n\u001b[1;32m    482\u001b[0m params, methods_with_name, method_name_modified \u001b[38;5;241m=\u001b[39m _parse_arg_names(\n\u001b[1;32m    483\u001b[0m     methodSpecs, method_name, convert_camel_case\n\u001b[1;32m    484\u001b[0m )\n\u001b[1;32m    485\u001b[0m return_type \u001b[38;5;241m=\u001b[39m methods_with_name[\u001b[38;5;241m0\u001b[39m][\u001b[38;5;124m\"\u001b[39m\u001b[38;5;124mreturn-type\u001b[39m\u001b[38;5;124m\"\u001b[39m]\n\u001b[1;32m    486\u001b[0m fn \u001b[38;5;241m=\u001b[39m \u001b[38;5;28;01mlambda\u001b[39;00m instance, \u001b[38;5;241m*\u001b[39margs, signatures_list\u001b[38;5;241m=\u001b[39m\u001b[38;5;28mtuple\u001b[39m(\n\u001b[1;32m    487\u001b[0m     methods_with_name\n\u001b[0;32m--> 488\u001b[0m ): \u001b[43minstance\u001b[49m\u001b[38;5;241;43m.\u001b[39;49m\u001b[43m_translate_call\u001b[49m\u001b[43m(\u001b[49m\u001b[43msignatures_list\u001b[49m\u001b[43m,\u001b[49m\u001b[43m \u001b[49m\u001b[43margs\u001b[49m\u001b[43m,\u001b[49m\u001b[43m \u001b[49m\u001b[43mstatic\u001b[49m\u001b[38;5;241;43m=\u001b[39;49m\u001b[43m_java_class\u001b[49m\u001b[43m \u001b[49m\u001b[38;5;241;43m==\u001b[39;49m\u001b[43m \u001b[49m\u001b[38;5;124;43m'\u001b[39;49m\u001b[38;5;124;43mjava.lang.Class\u001b[39;49m\u001b[38;5;124;43m'\u001b[39;49m\u001b[43m)\u001b[49m\n\u001b[1;32m    489\u001b[0m fn\u001b[38;5;241m.\u001b[39m\u001b[38;5;18m__name__\u001b[39m \u001b[38;5;241m=\u001b[39m method_name_modified\n\u001b[1;32m    490\u001b[0m fn\u001b[38;5;241m.\u001b[39m\u001b[38;5;18m__doc__\u001b[39m \u001b[38;5;241m=\u001b[39m \u001b[38;5;124m\"\u001b[39m\u001b[38;5;132;01m{}\u001b[39;00m\u001b[38;5;124m.\u001b[39m\u001b[38;5;132;01m{}\u001b[39;00m\u001b[38;5;124m: A dynamically generated Java method.\u001b[39m\u001b[38;5;124m\"\u001b[39m\u001b[38;5;241m.\u001b[39mformat(\n\u001b[1;32m    491\u001b[0m     _java_class, method_name_modified\n\u001b[1;32m    492\u001b[0m )\n",
            "File \u001b[0;32m~/miniconda3/lib/python3.12/site-packages/pyjavaz/bridge.py:698\u001b[0m, in \u001b[0;36m_JavaObjectShadow._translate_call\u001b[0;34m(self, method_specs, fn_args, static)\u001b[0m\n\u001b[1;32m    686\u001b[0m \u001b[38;5;250m\u001b[39m\u001b[38;5;124;03m\"\"\"\u001b[39;00m\n\u001b[1;32m    687\u001b[0m \u001b[38;5;124;03mTranslate to appropriate Java method, call it, and return converted python version of its result\u001b[39;00m\n\u001b[1;32m    688\u001b[0m \u001b[38;5;124;03mParameters\u001b[39;00m\n\u001b[0;32m   (...)\u001b[0m\n\u001b[1;32m    693\u001b[0m \u001b[38;5;124;03m     hold possible polymorphic args, or none\u001b[39;00m\n\u001b[1;32m    694\u001b[0m \u001b[38;5;124;03m\"\"\"\u001b[39;00m\n\u001b[1;32m    696\u001b[0m \u001b[38;5;66;03m# args that are none are placeholders to allow for polymorphism and not considered part of the spec\u001b[39;00m\n\u001b[1;32m    697\u001b[0m \u001b[38;5;66;03m# fn_args = [a for a in fn_args if a is not None]\u001b[39;00m\n\u001b[0;32m--> 698\u001b[0m valid_method_spec, deserialize_types \u001b[38;5;241m=\u001b[39m \u001b[43m_check_method_args\u001b[49m\u001b[43m(\u001b[49m\u001b[43mmethod_specs\u001b[49m\u001b[43m,\u001b[49m\u001b[43m \u001b[49m\u001b[43mfn_args\u001b[49m\u001b[43m)\u001b[49m\n\u001b[1;32m    699\u001b[0m \u001b[38;5;66;03m# args are good, make call through socket, casting the correct type if needed (e.g. int to float)\u001b[39;00m\n\u001b[1;32m    700\u001b[0m message \u001b[38;5;241m=\u001b[39m {\n\u001b[1;32m    701\u001b[0m     \u001b[38;5;124m\"\u001b[39m\u001b[38;5;124mcommand\u001b[39m\u001b[38;5;124m\"\u001b[39m: \u001b[38;5;124m\"\u001b[39m\u001b[38;5;124mrun-method\u001b[39m\u001b[38;5;124m\"\u001b[39m,\n\u001b[1;32m    702\u001b[0m     \u001b[38;5;124m\"\u001b[39m\u001b[38;5;124mstatic\u001b[39m\u001b[38;5;124m\"\u001b[39m: static,\n\u001b[0;32m   (...)\u001b[0m\n\u001b[1;32m    707\u001b[0m     \u001b[38;5;124m\"\u001b[39m\u001b[38;5;124margument-deserialization-types\u001b[39m\u001b[38;5;124m\"\u001b[39m: deserialize_types,\n\u001b[1;32m    708\u001b[0m }\n",
            "File \u001b[0;32m~/miniconda3/lib/python3.12/site-packages/pyjavaz/bridge.py:870\u001b[0m, in \u001b[0;36m_check_method_args\u001b[0;34m(method_specs, fn_args)\u001b[0m\n\u001b[1;32m    867\u001b[0m         \u001b[38;5;28;01mbreak\u001b[39;00m\n\u001b[1;32m    869\u001b[0m \u001b[38;5;28;01mif\u001b[39;00m valid_method_spec \u001b[38;5;129;01mis\u001b[39;00m \u001b[38;5;28;01mNone\u001b[39;00m:\n\u001b[0;32m--> 870\u001b[0m     \u001b[38;5;28;01mraise\u001b[39;00m \u001b[38;5;167;01mException\u001b[39;00m(\n\u001b[1;32m    871\u001b[0m         \u001b[38;5;124m\"\u001b[39m\u001b[38;5;124mIncorrect arguments. \u001b[39m\u001b[38;5;130;01m\\n\u001b[39;00m\u001b[38;5;124mExpected \u001b[39m\u001b[38;5;132;01m{}\u001b[39;00m\u001b[38;5;124m \u001b[39m\u001b[38;5;130;01m\\n\u001b[39;00m\u001b[38;5;124mGot \u001b[39m\u001b[38;5;132;01m{}\u001b[39;00m\u001b[38;5;124m\"\u001b[39m\u001b[38;5;241m.\u001b[39mformat(\n\u001b[1;32m    872\u001b[0m             \u001b[38;5;124m\"\u001b[39m\u001b[38;5;124m or \u001b[39m\u001b[38;5;124m\"\u001b[39m\u001b[38;5;241m.\u001b[39mjoin([\u001b[38;5;124m\"\u001b[39m\u001b[38;5;124m, \u001b[39m\u001b[38;5;124m\"\u001b[39m\u001b[38;5;241m.\u001b[39mjoin(method_spec[\u001b[38;5;124m\"\u001b[39m\u001b[38;5;124marguments\u001b[39m\u001b[38;5;124m\"\u001b[39m]) \u001b[38;5;28;01mfor\u001b[39;00m method_spec \u001b[38;5;129;01min\u001b[39;00m method_specs]),\n\u001b[1;32m    873\u001b[0m             \u001b[38;5;124m\"\u001b[39m\u001b[38;5;124m, \u001b[39m\u001b[38;5;124m\"\u001b[39m\u001b[38;5;241m.\u001b[39mjoin([\u001b[38;5;28mstr\u001b[39m(\u001b[38;5;28mtype\u001b[39m(a)) \u001b[38;5;28;01mfor\u001b[39;00m a \u001b[38;5;129;01min\u001b[39;00m fn_args]),\n\u001b[1;32m    874\u001b[0m         )\n\u001b[1;32m    875\u001b[0m     )\n\u001b[1;32m    877\u001b[0m \u001b[38;5;66;03m# subclass NDArrays to the appropriate data type so they dont get incorrectly reconstructed as objects\u001b[39;00m\n\u001b[1;32m    878\u001b[0m valid_method_spec \u001b[38;5;241m=\u001b[39m copy\u001b[38;5;241m.\u001b[39mdeepcopy(valid_method_spec)\n",
            "\u001b[0;31mException\u001b[0m: Incorrect arguments. \nExpected java.lang.String, java.lang.String, boolean, boolean, int, int, int, int, boolean \nGot <class 'str'>, <class 'str'>, <class 'bool'>, <class 'int'>, <class 'bool'>"
          ]
        }
      ],
      "source": [
        "'''\n",
        "#   this code block was inspired by the example at\n",
        "#   https://github.com/micro-manager/pycro-manager/blob/main/tutorial/Pycro-Manager%20acquisitions%20tutorial.ipynb\n",
        "'''\n",
        "# Run the acquisition\n",
        "with Acquisition(directory=save_directory, name=acquisition_name) as acq:\n",
        "    acq.acquire(events)\n",
        "\n",
        "# When the context manager exits the acquisition is complete and the data is saved\n",
        "print(f\"Acquisition saved to {save_directory}/{acquisition_name}\")"
      ]
    },
    {
      "cell_type": "code",
      "execution_count": null,
      "metadata": {},
      "outputs": [],
      "source": []
    },
    {
      "cell_type": "code",
      "execution_count": null,
      "metadata": {},
      "outputs": [],
      "source": []
    },
    {
      "cell_type": "code",
      "execution_count": null,
      "metadata": {},
      "outputs": [],
      "source": []
    }
  ],
  "metadata": {
    "colab": {
      "provenance": []
    },
    "kernelspec": {
      "display_name": "Python 3",
      "name": "python3"
    },
    "language_info": {
      "codemirror_mode": {
        "name": "ipython",
        "version": 3
      },
      "file_extension": ".py",
      "mimetype": "text/x-python",
      "name": "python",
      "nbconvert_exporter": "python",
      "pygments_lexer": "ipython3",
      "version": "3.12.2"
    }
  },
  "nbformat": 4,
  "nbformat_minor": 0
}
