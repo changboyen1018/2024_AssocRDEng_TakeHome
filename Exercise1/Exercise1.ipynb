{
  "cells": [
    {
      "cell_type": "markdown",
      "metadata": {},
      "source": [
        "### Exercise 1: Multidimensional Dataset Acquisition ###\n",
        "\n",
        "This script acquires a multidimensional dataset using MicroManager via the pycromanager package. The dataset features:\n",
        "- 12 z slices spaced by 0.1 µm.\n",
        "- Two channels: DAPI and FITC.\n",
        "- 9 positions distributed in a 3x3 grid with 500 µm spacing.\n",
        "The resulting dataset is saved as a .tif file.\n",
        "\n",
        "\n",
        "This exercise demonstrates familiarity with automated microscopy control and image acquisition principles.\n",
        "\n",
        "Acknowledgments:\n",
        "- The approach for Z-axis acquisition was inspired by the Pycro-Manager acquisitions tutorial.\n",
        "- The conceptualization of XY-axis acquisition was assisted by ChatGPT.\n"
      ]
    },
    {
      "cell_type": "code",
      "execution_count": null,
      "metadata": {},
      "outputs": [
        {
          "name": "stdout",
          "output_type": "stream",
          "text": [
            "Requirement already satisfied: pycromanager in c:\\users\\chang\\anaconda3\\lib\\site-packages (0.30.3)\n",
            "Requirement already satisfied: numpy in c:\\users\\chang\\anaconda3\\lib\\site-packages (from pycromanager) (1.24.3)\n",
            "Requirement already satisfied: dask[array]>=2022.2.0 in c:\\users\\chang\\anaconda3\\lib\\site-packages (from pycromanager) (2023.6.0)\n",
            "Requirement already satisfied: pyzmq in c:\\users\\chang\\anaconda3\\lib\\site-packages (from pycromanager) (23.2.0)\n",
            "Requirement already satisfied: ndtiff>=2.2.0 in c:\\users\\chang\\anaconda3\\lib\\site-packages (from pycromanager) (2.2.1)\n",
            "Requirement already satisfied: docstring-inheritance in c:\\users\\chang\\anaconda3\\lib\\site-packages (from pycromanager) (2.2.0)\n",
            "Requirement already satisfied: pymmcore in c:\\users\\chang\\anaconda3\\lib\\site-packages (from pycromanager) (11.1.1.71.0)\n",
            "Requirement already satisfied: sortedcontainers in c:\\users\\chang\\anaconda3\\lib\\site-packages (from pycromanager) (2.4.0)\n",
            "Requirement already satisfied: pyjavaz==1.1.0 in c:\\users\\chang\\anaconda3\\lib\\site-packages (from pycromanager) (1.1.0)\n",
            "Requirement already satisfied: click>=8.0 in c:\\users\\chang\\anaconda3\\lib\\site-packages (from dask[array]>=2022.2.0->pycromanager) (8.0.4)\n",
            "Requirement already satisfied: cloudpickle>=1.5.0 in c:\\users\\chang\\anaconda3\\lib\\site-packages (from dask[array]>=2022.2.0->pycromanager) (2.2.1)\n",
            "Requirement already satisfied: fsspec>=2021.09.0 in c:\\users\\chang\\anaconda3\\lib\\site-packages (from dask[array]>=2022.2.0->pycromanager) (2023.4.0)\n",
            "Requirement already satisfied: packaging>=20.0 in c:\\users\\chang\\anaconda3\\lib\\site-packages (from dask[array]>=2022.2.0->pycromanager) (23.1)\n",
            "Requirement already satisfied: partd>=1.2.0 in c:\\users\\chang\\anaconda3\\lib\\site-packages (from dask[array]>=2022.2.0->pycromanager) (1.4.0)\n",
            "Requirement already satisfied: pyyaml>=5.3.1 in c:\\users\\chang\\anaconda3\\lib\\site-packages (from dask[array]>=2022.2.0->pycromanager) (6.0)\n",
            "Requirement already satisfied: toolz>=0.10.0 in c:\\users\\chang\\anaconda3\\lib\\site-packages (from dask[array]>=2022.2.0->pycromanager) (0.12.0)\n",
            "Requirement already satisfied: importlib-metadata>=4.13.0 in c:\\users\\chang\\anaconda3\\lib\\site-packages (from dask[array]>=2022.2.0->pycromanager) (6.0.0)\n",
            "Requirement already satisfied: colorama in c:\\users\\chang\\anaconda3\\lib\\site-packages (from click>=8.0->dask[array]>=2022.2.0->pycromanager) (0.4.6)\n",
            "Requirement already satisfied: zipp>=0.5 in c:\\users\\chang\\anaconda3\\lib\\site-packages (from importlib-metadata>=4.13.0->dask[array]>=2022.2.0->pycromanager) (3.11.0)\n",
            "Requirement already satisfied: locket in c:\\users\\chang\\anaconda3\\lib\\site-packages (from partd>=1.2.0->dask[array]>=2022.2.0->pycromanager) (1.0.0)\n",
            "Requirement already satisfied: pycromanager in c:\\users\\chang\\anaconda3\\lib\\site-packages (0.30.3)\n",
            "Requirement already satisfied: numpy in c:\\users\\chang\\anaconda3\\lib\\site-packages (from pycromanager) (1.24.3)\n",
            "Requirement already satisfied: dask[array]>=2022.2.0 in c:\\users\\chang\\anaconda3\\lib\\site-packages (from pycromanager) (2023.6.0)\n",
            "Requirement already satisfied: pyzmq in c:\\users\\chang\\anaconda3\\lib\\site-packages (from pycromanager) (23.2.0)\n",
            "Requirement already satisfied: ndtiff>=2.2.0 in c:\\users\\chang\\anaconda3\\lib\\site-packages (from pycromanager) (2.2.1)\n",
            "Requirement already satisfied: docstring-inheritance in c:\\users\\chang\\anaconda3\\lib\\site-packages (from pycromanager) (2.2.0)\n",
            "Requirement already satisfied: pymmcore in c:\\users\\chang\\anaconda3\\lib\\site-packages (from pycromanager) (11.1.1.71.0)\n",
            "Requirement already satisfied: sortedcontainers in c:\\users\\chang\\anaconda3\\lib\\site-packages (from pycromanager) (2.4.0)\n",
            "Requirement already satisfied: pyjavaz==1.1.0 in c:\\users\\chang\\anaconda3\\lib\\site-packages (from pycromanager) (1.1.0)\n",
            "Requirement already satisfied: click>=8.0 in c:\\users\\chang\\anaconda3\\lib\\site-packages (from dask[array]>=2022.2.0->pycromanager) (8.0.4)\n",
            "Requirement already satisfied: cloudpickle>=1.5.0 in c:\\users\\chang\\anaconda3\\lib\\site-packages (from dask[array]>=2022.2.0->pycromanager) (2.2.1)\n",
            "Requirement already satisfied: fsspec>=2021.09.0 in c:\\users\\chang\\anaconda3\\lib\\site-packages (from dask[array]>=2022.2.0->pycromanager) (2023.4.0)\n",
            "Requirement already satisfied: packaging>=20.0 in c:\\users\\chang\\anaconda3\\lib\\site-packages (from dask[array]>=2022.2.0->pycromanager) (23.1)\n",
            "Requirement already satisfied: partd>=1.2.0 in c:\\users\\chang\\anaconda3\\lib\\site-packages (from dask[array]>=2022.2.0->pycromanager) (1.4.0)\n",
            "Requirement already satisfied: pyyaml>=5.3.1 in c:\\users\\chang\\anaconda3\\lib\\site-packages (from dask[array]>=2022.2.0->pycromanager) (6.0)\n",
            "Requirement already satisfied: toolz>=0.10.0 in c:\\users\\chang\\anaconda3\\lib\\site-packages (from dask[array]>=2022.2.0->pycromanager) (0.12.0)\n",
            "Requirement already satisfied: importlib-metadata>=4.13.0 in c:\\users\\chang\\anaconda3\\lib\\site-packages (from dask[array]>=2022.2.0->pycromanager) (6.0.0)\n",
            "Requirement already satisfied: colorama in c:\\users\\chang\\anaconda3\\lib\\site-packages (from click>=8.0->dask[array]>=2022.2.0->pycromanager) (0.4.6)\n",
            "Requirement already satisfied: zipp>=0.5 in c:\\users\\chang\\anaconda3\\lib\\site-packages (from importlib-metadata>=4.13.0->dask[array]>=2022.2.0->pycromanager) (3.11.0)\n",
            "Requirement already satisfied: locket in c:\\users\\chang\\anaconda3\\lib\\site-packages (from partd>=1.2.0->dask[array]>=2022.2.0->pycromanager) (1.0.0)\n"
          ]
        }
      ],
      "source": [
        "# Step 1: Install and upgrade pycromanager package\n",
        "# Note: These commands are intended to be run in a terminal or appropriate environment setup script\n",
        "\n",
        "!pip install pycromanager\n",
        "!pip install pycromanager --upgrade\n",
        "\n",
        "# Step 2: Import necessary libraries\n",
        "import pycromanager\n",
        "from pycromanager import Acquisition, multi_d_acquisition_events\n",
        "import numpy as np"
      ]
    },
    {
      "cell_type": "code",
      "execution_count": 7,
      "metadata": {
        "id": "tpp4x1fkUg1p"
      },
      "outputs": [],
      "source": [
        "'''\n",
        "Acknowledgment: \n",
        "# In this block, the use of pycromanager for acquisition control was learned from Pycro-Manager's tutorials on Github.\n",
        "# Link: https://github.com/micro-manager/pycro-manager/blob/main/tutorial/Pycro-Manager%20acquisitions%20tutorial.ipynb\n",
        "'''\n",
        "\n",
        "# Step 3: Define acquisition parameters\n",
        "z_step = 0.1                #Z-axis step size in micrometers (µm)\n",
        "num_z_slices = 12           # num of slices at Z-axis\n",
        "spacing = 500               # Spacing between positions in the XY plane in micrometers (µm)\n",
        "channels = ['DAPI', 'FITC'] # Imaging channel list\n",
        "\n",
        "\n",
        "\n",
        "# Parameters extraction and conceptualization for Z-axis and XY-axis acquisitions\n",
        "# Acknowledgment: conceptualized by myself, assisted by ChatGPT\n",
        "\n",
        "num_positions = 9   # Total number of positions in the grid\n",
        "grid_size = int(np.sqrt(num_positions))  #Calculate grid size for a square layout\n",
        "\n",
        "\n",
        "# Step 4: Generate XY positions\n",
        "positions = [(i % grid_size * spacing, i // grid_size * spacing, 0) for i in range(num_positions)]\n"
      ]
    },
    {
      "cell_type": "code",
      "execution_count": 8,
      "metadata": {},
      "outputs": [],
      "source": [
        "# Step 5: Specify the directory and name for saving the dataset\n",
        "save_directory = 'C:/Users/chang/Downloads/2024_AssocRDEng_TakeHome/Exercise1'\n",
        "acquisition_name = 'my_acquisition'"
      ]
    },
    {
      "cell_type": "code",
      "execution_count": null,
      "metadata": {},
      "outputs": [],
      "source": [
        "'''\n",
        "Acknowledgment:\n",
        "# Using multi_d_acquisition_events in this block, was inferred from pycromanager official document\n",
        "# Link: https://pycro-manager.readthedocs.io/en/latest/apis.html#pycromanager.multi_d_acquisition_events\n",
        "'''\n",
        "\n",
        "# Step 6: Generate acquisition events, Ｕsing multi_d_acquisition_events function to generate acqusition events\n",
        "events = multi_d_acquisition_events(\n",
        "    num_time_points=1,     # Set as 1, acquisit once at each event\n",
        "    z_start=0, z_end=z_step*(num_z_slices-1), z_step=z_step,\n",
        "    channels=channels,\n",
        "    xy_positions=positions,\n",
        "    order='tpcz'           # Acqusition order: time, position, channel, z-axis\n",
        ")\n"
      ]
    },
    {
      "cell_type": "code",
      "execution_count": 10,
      "metadata": {},
      "outputs": [
        {
          "name": "stdout",
          "output_type": "stream",
          "text": [
            "Acquisition saved to C:/Users/chang/Downloads/2024_AssocRDEng_TakeHome/Exercise1/my_acquisition\n"
          ]
        }
      ],
      "source": [
        "'''\n",
        "Acknowledgment: The strategy for generating acquisition events using multi_d_acquisition_events was informed by examples and the API documentation of Pycro-Manager.\n",
        "Link: https://github.com/micro-manager/pycro-manager/blob/main/tutorial/Pycro-Manager%20acquisitions%20tutorial.ipynb\n",
        "'''\n",
        "\n",
        "# Step 7: Execute the acquisition\n",
        "with Acquisition(directory=save_directory, name=acquisition_name) as acq:\n",
        "    acq.acquire(events)\n",
        "\n",
        "# Step 8: Confirm completion\n",
        "## When the context manager exits the acquisition is complete and the data is saved\n",
        "print(f\"Acquisition saved to {save_directory}/{acquisition_name}\")"
      ]
    }
  ],
  "metadata": {
    "colab": {
      "provenance": []
    },
    "kernelspec": {
      "display_name": "Python 3",
      "name": "python3"
    },
    "language_info": {
      "codemirror_mode": {
        "name": "ipython",
        "version": 3
      },
      "file_extension": ".py",
      "mimetype": "text/x-python",
      "name": "python",
      "nbconvert_exporter": "python",
      "pygments_lexer": "ipython3",
      "version": "3.11.5"
    }
  },
  "nbformat": 4,
  "nbformat_minor": 0
}
