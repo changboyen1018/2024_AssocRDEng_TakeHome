{
  "cells": [
    {
      "cell_type": "code",
      "execution_count": 1,
      "metadata": {},
      "outputs": [
        {
          "data": {
            "text/plain": [
              "'\\nWrite a python script to acquire a multidimensional dataset with 12 z slices spaced by 0.1 um, two channels: DAPI and FITC, \\nand 9 positions distributed in a 3x3 grid with 500 um spacing.\\n\\nTo control MicroManager from python, you can use [pycromanager](https://pycro-manager.readthedocs.io/en/latest/), \\n[pymmcore-plus](https://pymmcore-plus.github.io/pymmcore-plus/), or call the MicroManager [Core](https://micro-manager.org/apidoc/mmcorej/latest/mmcorej/CMMCore.html) \\nand [Studio](https://micro-manager.org/apidoc/mmstudio/latest/org/micromanager/Studio.html) API directly. Save the dataset at a .tif file.\\n'"
            ]
          },
          "execution_count": 1,
          "metadata": {},
          "output_type": "execute_result"
        }
      ],
      "source": [
        "### Exercise1 ###\n",
        "'''\n",
        "Write a python script to acquire a multidimensional dataset with 12 z slices spaced by 0.1 um, two channels: DAPI and FITC, \n",
        "and 9 positions distributed in a 3x3 grid with 500 um spacing.\n",
        "\n",
        "To control MicroManager from python, you can use [pycromanager](https://pycro-manager.readthedocs.io/en/latest/), \n",
        "[pymmcore-plus](https://pymmcore-plus.github.io/pymmcore-plus/), or call the MicroManager [Core](https://micro-manager.org/apidoc/mmcorej/latest/mmcorej/CMMCore.html) \n",
        "and [Studio](https://micro-manager.org/apidoc/mmstudio/latest/org/micromanager/Studio.html) API directly. Save the dataset at a .tif file.\n",
        "'''\n"
      ]
    },
    {
      "cell_type": "code",
      "execution_count": 2,
      "metadata": {},
      "outputs": [
        {
          "name": "stdout",
          "output_type": "stream",
          "text": [
            "Requirement already satisfied: pycromanager in c:\\users\\chang\\anaconda3\\lib\\site-packages (0.30.3)\n",
            "Requirement already satisfied: numpy in c:\\users\\chang\\anaconda3\\lib\\site-packages (from pycromanager) (1.24.3)\n",
            "Requirement already satisfied: dask[array]>=2022.2.0 in c:\\users\\chang\\anaconda3\\lib\\site-packages (from pycromanager) (2023.6.0)\n",
            "Requirement already satisfied: pyzmq in c:\\users\\chang\\anaconda3\\lib\\site-packages (from pycromanager) (23.2.0)\n",
            "Requirement already satisfied: ndtiff>=2.2.0 in c:\\users\\chang\\anaconda3\\lib\\site-packages (from pycromanager) (2.2.1)\n",
            "Requirement already satisfied: docstring-inheritance in c:\\users\\chang\\anaconda3\\lib\\site-packages (from pycromanager) (2.2.0)\n",
            "Requirement already satisfied: pymmcore in c:\\users\\chang\\anaconda3\\lib\\site-packages (from pycromanager) (11.1.1.71.0)\n",
            "Requirement already satisfied: sortedcontainers in c:\\users\\chang\\anaconda3\\lib\\site-packages (from pycromanager) (2.4.0)\n",
            "Requirement already satisfied: pyjavaz==1.1.0 in c:\\users\\chang\\anaconda3\\lib\\site-packages (from pycromanager) (1.1.0)\n",
            "Requirement already satisfied: click>=8.0 in c:\\users\\chang\\anaconda3\\lib\\site-packages (from dask[array]>=2022.2.0->pycromanager) (8.0.4)\n",
            "Requirement already satisfied: cloudpickle>=1.5.0 in c:\\users\\chang\\anaconda3\\lib\\site-packages (from dask[array]>=2022.2.0->pycromanager) (2.2.1)\n",
            "Requirement already satisfied: fsspec>=2021.09.0 in c:\\users\\chang\\anaconda3\\lib\\site-packages (from dask[array]>=2022.2.0->pycromanager) (2023.4.0)\n",
            "Requirement already satisfied: packaging>=20.0 in c:\\users\\chang\\anaconda3\\lib\\site-packages (from dask[array]>=2022.2.0->pycromanager) (23.1)\n",
            "Requirement already satisfied: partd>=1.2.0 in c:\\users\\chang\\anaconda3\\lib\\site-packages (from dask[array]>=2022.2.0->pycromanager) (1.4.0)\n",
            "Requirement already satisfied: pyyaml>=5.3.1 in c:\\users\\chang\\anaconda3\\lib\\site-packages (from dask[array]>=2022.2.0->pycromanager) (6.0)\n",
            "Requirement already satisfied: toolz>=0.10.0 in c:\\users\\chang\\anaconda3\\lib\\site-packages (from dask[array]>=2022.2.0->pycromanager) (0.12.0)\n",
            "Requirement already satisfied: importlib-metadata>=4.13.0 in c:\\users\\chang\\anaconda3\\lib\\site-packages (from dask[array]>=2022.2.0->pycromanager) (6.0.0)\n",
            "Requirement already satisfied: colorama in c:\\users\\chang\\anaconda3\\lib\\site-packages (from click>=8.0->dask[array]>=2022.2.0->pycromanager) (0.4.6)\n",
            "Requirement already satisfied: zipp>=0.5 in c:\\users\\chang\\anaconda3\\lib\\site-packages (from importlib-metadata>=4.13.0->dask[array]>=2022.2.0->pycromanager) (3.11.0)\n",
            "Requirement already satisfied: locket in c:\\users\\chang\\anaconda3\\lib\\site-packages (from partd>=1.2.0->dask[array]>=2022.2.0->pycromanager) (1.0.0)\n",
            "Requirement already satisfied: pycromanager in c:\\users\\chang\\anaconda3\\lib\\site-packages (0.30.3)\n",
            "Requirement already satisfied: numpy in c:\\users\\chang\\anaconda3\\lib\\site-packages (from pycromanager) (1.24.3)\n",
            "Requirement already satisfied: dask[array]>=2022.2.0 in c:\\users\\chang\\anaconda3\\lib\\site-packages (from pycromanager) (2023.6.0)\n",
            "Requirement already satisfied: pyzmq in c:\\users\\chang\\anaconda3\\lib\\site-packages (from pycromanager) (23.2.0)\n",
            "Requirement already satisfied: ndtiff>=2.2.0 in c:\\users\\chang\\anaconda3\\lib\\site-packages (from pycromanager) (2.2.1)\n",
            "Requirement already satisfied: docstring-inheritance in c:\\users\\chang\\anaconda3\\lib\\site-packages (from pycromanager) (2.2.0)\n",
            "Requirement already satisfied: pymmcore in c:\\users\\chang\\anaconda3\\lib\\site-packages (from pycromanager) (11.1.1.71.0)\n",
            "Requirement already satisfied: sortedcontainers in c:\\users\\chang\\anaconda3\\lib\\site-packages (from pycromanager) (2.4.0)\n",
            "Requirement already satisfied: pyjavaz==1.1.0 in c:\\users\\chang\\anaconda3\\lib\\site-packages (from pycromanager) (1.1.0)\n",
            "Requirement already satisfied: click>=8.0 in c:\\users\\chang\\anaconda3\\lib\\site-packages (from dask[array]>=2022.2.0->pycromanager) (8.0.4)\n",
            "Requirement already satisfied: cloudpickle>=1.5.0 in c:\\users\\chang\\anaconda3\\lib\\site-packages (from dask[array]>=2022.2.0->pycromanager) (2.2.1)\n",
            "Requirement already satisfied: fsspec>=2021.09.0 in c:\\users\\chang\\anaconda3\\lib\\site-packages (from dask[array]>=2022.2.0->pycromanager) (2023.4.0)\n",
            "Requirement already satisfied: packaging>=20.0 in c:\\users\\chang\\anaconda3\\lib\\site-packages (from dask[array]>=2022.2.0->pycromanager) (23.1)\n",
            "Requirement already satisfied: partd>=1.2.0 in c:\\users\\chang\\anaconda3\\lib\\site-packages (from dask[array]>=2022.2.0->pycromanager) (1.4.0)\n",
            "Requirement already satisfied: pyyaml>=5.3.1 in c:\\users\\chang\\anaconda3\\lib\\site-packages (from dask[array]>=2022.2.0->pycromanager) (6.0)\n",
            "Requirement already satisfied: toolz>=0.10.0 in c:\\users\\chang\\anaconda3\\lib\\site-packages (from dask[array]>=2022.2.0->pycromanager) (0.12.0)\n",
            "Requirement already satisfied: importlib-metadata>=4.13.0 in c:\\users\\chang\\anaconda3\\lib\\site-packages (from dask[array]>=2022.2.0->pycromanager) (6.0.0)\n",
            "Requirement already satisfied: colorama in c:\\users\\chang\\anaconda3\\lib\\site-packages (from click>=8.0->dask[array]>=2022.2.0->pycromanager) (0.4.6)\n",
            "Requirement already satisfied: zipp>=0.5 in c:\\users\\chang\\anaconda3\\lib\\site-packages (from importlib-metadata>=4.13.0->dask[array]>=2022.2.0->pycromanager) (3.11.0)\n",
            "Requirement already satisfied: locket in c:\\users\\chang\\anaconda3\\lib\\site-packages (from partd>=1.2.0->dask[array]>=2022.2.0->pycromanager) (1.0.0)\n"
          ]
        }
      ],
      "source": [
        "!pip install pycromanager\n",
        "!pip install pycromanager --upgrade"
      ]
    },
    {
      "cell_type": "code",
      "execution_count": 7,
      "metadata": {
        "id": "tpp4x1fkUg1p"
      },
      "outputs": [],
      "source": [
        "import pycromanager\n",
        "from pycromanager import Acquisition, multi_d_acquisition_events\n",
        "import numpy as np\n",
        "\n",
        "\n",
        "'''\n",
        "# 1. For the Z-axis acquisition\n",
        "#   this code block was inspired by the example at\n",
        "#   https://github.com/micro-manager/pycro-manager/blob/main/tutorial/Pycro-Manager%20acquisitions%20tutorial.ipynb\n",
        "#   but extract the paramerters out first\n",
        "'''\n",
        "\n",
        "# Define acquisition parameters \n",
        "# (place params togather for easier preserved and clarification)\n",
        "z_step = 0.1 #µm\n",
        "num_z_slices = 12  # num of slices at Z-axis\n",
        "spacing = 500  # XY spacing interval\n",
        "channels = ['DAPI', 'FITC']  # channel list\n",
        "\n",
        "\n",
        "'''\n",
        "# 2. For the XY-axis acquisition\n",
        "#   Conceptualized by myself, assisted by ChatGPT\n",
        "\n",
        "'''\n",
        "num_positions = 9\n",
        "grid_size = int(np.sqrt(num_positions))  # 3x3\n",
        "\n",
        "\n",
        "# To get accurate X,Y positions\n",
        "\n",
        "positions = [(i % grid_size * spacing, i // grid_size * spacing, 0) for i in range(num_positions)]\n"
      ]
    },
    {
      "cell_type": "code",
      "execution_count": 8,
      "metadata": {},
      "outputs": [],
      "source": [
        "# The directory where the data will be saved\n",
        "save_directory = 'C:/Users/chang/Downloads/2024_AssocRDEng_TakeHome/Exercise1'\n",
        "acquisition_name = 'my_acquisition'"
      ]
    },
    {
      "cell_type": "code",
      "execution_count": 9,
      "metadata": {},
      "outputs": [],
      "source": [
        "'''\n",
        "Pycromanager Using multi_d_acquisition_events was inferred from https://pycro-manager.readthedocs.io/en/latest/apis.html#pycromanager.multi_d_acquisition_events\n",
        "'''\n",
        "# Ｕsing multi_d_acquisition_events function to generate acqusition events\n",
        "events = multi_d_acquisition_events(\n",
        "    #num_time_points=1,  # Set as 1, \n",
        "    z_start=0, z_end=z_step*(num_z_slices-1), z_step=z_step,\n",
        "    #channel_group=channels,\n",
        "    channels=channels,\n",
        "    xy_positions=positions,\n",
        "    order='tpcz'  # Acqusition order: time, position, channel, z-axis\n",
        ")\n"
      ]
    },
    {
      "cell_type": "code",
      "execution_count": 10,
      "metadata": {},
      "outputs": [
        {
          "name": "stdout",
          "output_type": "stream",
          "text": [
            "Acquisition saved to C:/Users/chang/Downloads/2024_AssocRDEng_TakeHome/Exercise1/my_acquisition\n"
          ]
        }
      ],
      "source": [
        "'''\n",
        "#   this code block was inspired by the example at\n",
        "#   https://github.com/micro-manager/pycro-manager/blob/main/tutorial/Pycro-Manager%20acquisitions%20tutorial.ipynb\n",
        "'''\n",
        "# Run the acquisition\n",
        "with Acquisition(directory=save_directory, name=acquisition_name) as acq:\n",
        "    acq.acquire(events)\n",
        "\n",
        "# When the context manager exits the acquisition is complete and the data is saved\n",
        "print(f\"Acquisition saved to {save_directory}/{acquisition_name}\")"
      ]
    },
    {
      "cell_type": "code",
      "execution_count": null,
      "metadata": {},
      "outputs": [],
      "source": []
    },
    {
      "cell_type": "code",
      "execution_count": null,
      "metadata": {},
      "outputs": [],
      "source": []
    },
    {
      "cell_type": "code",
      "execution_count": null,
      "metadata": {},
      "outputs": [],
      "source": []
    }
  ],
  "metadata": {
    "colab": {
      "provenance": []
    },
    "kernelspec": {
      "display_name": "Python 3",
      "name": "python3"
    },
    "language_info": {
      "codemirror_mode": {
        "name": "ipython",
        "version": 3
      },
      "file_extension": ".py",
      "mimetype": "text/x-python",
      "name": "python",
      "nbconvert_exporter": "python",
      "pygments_lexer": "ipython3",
      "version": "3.11.5"
    }
  },
  "nbformat": 4,
  "nbformat_minor": 0
}
