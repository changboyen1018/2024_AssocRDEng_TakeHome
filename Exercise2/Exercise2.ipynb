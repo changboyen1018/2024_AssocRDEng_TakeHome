{
  "cells": [
    {
      "cell_type": "code",
      "execution_count": 1,
      "metadata": {
        "colab": {
          "base_uri": "https://localhost:8080/",
          "height": 143
        },
        "id": "OL_MosY-P123",
        "outputId": "2bc3341a-faab-405c-8d23-acd12f30464e"
      },
      "outputs": [
        {
          "data": {
            "text/plain": [
              "'\\nIn this exercise we will simulate real-time data analysis and feedback on a live acquisition system.\\nSince we don’t have a real microscope, this example is a bit contrived, but many of the principles its tests apply to the systems we use in the lab daily.\\n\\nLaunch MicroManager as in the previous exercise. Set the camera in “Noise” mode by opening the Device Property Browser and setting the “Mode” property of the “Camera” device to “Noise”.\\nInstead of the wave pattern you will now see images like this: [Img]\\n\\nIn a new python script, set up a timelapse acquisition with 100 time points in the DAPI channel with exposure time of 10 ms.\\nExtend your acquisition pipeline to inspect each image as it is acquired. If a pixel has a value of exactly 700 counts,\\nset neighboring pixels within a radius of 15 pixels to zero. Save this modified image in the .tif dataset instead of the original image.\\n\\nA modified image may look something like this: [Img]\\n'"
            ]
          },
          "execution_count": 1,
          "metadata": {},
          "output_type": "execute_result"
        }
      ],
      "source": [
        "'''\n",
        "In this exercise we will simulate real-time data analysis and feedback on a live acquisition system.\n",
        "Since we don’t have a real microscope, this example is a bit contrived, but many of the principles its tests apply to the systems we use in the lab daily.\n",
        "\n",
        "Launch MicroManager as in the previous exercise. Set the camera in “Noise” mode by opening the Device Property Browser and setting the “Mode” property of the “Camera” device to “Noise”.\n",
        "Instead of the wave pattern you will now see images like this: [Img]\n",
        "\n",
        "In a new python script, set up a timelapse acquisition with 100 time points in the DAPI channel with exposure time of 10 ms.\n",
        "Extend your acquisition pipeline to inspect each image as it is acquired. If a pixel has a value of exactly 700 counts,\n",
        "set neighboring pixels within a radius of 15 pixels to zero. Save this modified image in the .tif dataset instead of the original image.\n",
        "\n",
        "A modified image may look something like this: [Img]\n",
        "'''\n"
      ]
    },
    {
      "cell_type": "code",
      "execution_count": 13,
      "metadata": {
        "id": "E_5vXZmMOnQk"
      },
      "outputs": [
        {
          "name": "stdout",
          "output_type": "stream",
          "text": [
            "Collecting scikit-image\n",
            "  Downloading scikit_image-0.22.0-cp312-cp312-macosx_10_9_x86_64.whl.metadata (13 kB)\n",
            "Requirement already satisfied: numpy>=1.22 in /Users/changboyen/miniconda3/lib/python3.12/site-packages (from scikit-image) (1.26.4)\n",
            "Collecting scipy>=1.8 (from scikit-image)\n",
            "  Downloading scipy-1.13.0-cp312-cp312-macosx_10_9_x86_64.whl.metadata (60 kB)\n",
            "\u001b[2K     \u001b[90m━━━━━━━━━━━━━━━━━━━━━━━━━━━━━━━━━━━━━━━━\u001b[0m \u001b[32m60.6/60.6 kB\u001b[0m \u001b[31m2.5 MB/s\u001b[0m eta \u001b[36m0:00:00\u001b[0m\n",
            "\u001b[?25hCollecting networkx>=2.8 (from scikit-image)\n",
            "  Downloading networkx-3.2.1-py3-none-any.whl.metadata (5.2 kB)\n",
            "Collecting pillow>=9.0.1 (from scikit-image)\n",
            "  Downloading pillow-10.3.0-cp312-cp312-macosx_10_10_x86_64.whl.metadata (9.2 kB)\n",
            "Collecting imageio>=2.27 (from scikit-image)\n",
            "  Downloading imageio-2.34.0-py3-none-any.whl.metadata (4.9 kB)\n",
            "Collecting tifffile>=2022.8.12 (from scikit-image)\n",
            "  Downloading tifffile-2024.2.12-py3-none-any.whl.metadata (31 kB)\n",
            "Requirement already satisfied: packaging>=21 in /Users/changboyen/miniconda3/lib/python3.12/site-packages (from scikit-image) (23.1)\n",
            "Collecting lazy_loader>=0.3 (from scikit-image)\n",
            "  Downloading lazy_loader-0.3-py3-none-any.whl.metadata (4.3 kB)\n",
            "Downloading scikit_image-0.22.0-cp312-cp312-macosx_10_9_x86_64.whl (14.0 MB)\n",
            "\u001b[2K   \u001b[90m━━━━━━━━━━━━━━━━━━━━━━━━━━━━━━━━━━━━━━━━\u001b[0m \u001b[32m14.0/14.0 MB\u001b[0m \u001b[31m18.4 MB/s\u001b[0m eta \u001b[36m0:00:00\u001b[0m00:01\u001b[0m00:01\u001b[0m\n",
            "\u001b[?25hDownloading imageio-2.34.0-py3-none-any.whl (313 kB)\n",
            "\u001b[2K   \u001b[90m━━━━━━━━━━━━━━━━━━━━━━━━━━━━━━━━━━━━━━━━\u001b[0m \u001b[32m313.4/313.4 kB\u001b[0m \u001b[31m23.3 MB/s\u001b[0m eta \u001b[36m0:00:00\u001b[0m\n",
            "\u001b[?25hDownloading lazy_loader-0.3-py3-none-any.whl (9.1 kB)\n",
            "Downloading networkx-3.2.1-py3-none-any.whl (1.6 MB)\n",
            "\u001b[2K   \u001b[90m━━━━━━━━━━━━━━━━━━━━━━━━━━━━━━━━━━━━━━━━\u001b[0m \u001b[32m1.6/1.6 MB\u001b[0m \u001b[31m22.3 MB/s\u001b[0m eta \u001b[36m0:00:00\u001b[0m00:01\u001b[0m00:01\u001b[0m\n",
            "\u001b[?25hDownloading pillow-10.3.0-cp312-cp312-macosx_10_10_x86_64.whl (3.5 MB)\n",
            "\u001b[2K   \u001b[90m━━━━━━━━━━━━━━━━━━━━━━━━━━━━━━━━━━━━━━━━\u001b[0m \u001b[32m3.5/3.5 MB\u001b[0m \u001b[31m16.5 MB/s\u001b[0m eta \u001b[36m0:00:00\u001b[0ma \u001b[36m0:00:01\u001b[0m\n",
            "\u001b[?25hDownloading scipy-1.13.0-cp312-cp312-macosx_10_9_x86_64.whl (39.4 MB)\n",
            "\u001b[2K   \u001b[90m━━━━━━━━━━━━━━━━━━━━━━━━━━━━━━━━━━━━━━━━\u001b[0m \u001b[32m39.4/39.4 MB\u001b[0m \u001b[31m18.5 MB/s\u001b[0m eta \u001b[36m0:00:00\u001b[0m00:01\u001b[0m00:01\u001b[0m\n",
            "\u001b[?25hDownloading tifffile-2024.2.12-py3-none-any.whl (224 kB)\n",
            "\u001b[2K   \u001b[90m━━━━━━━━━━━━━━━━━━━━━━━━━━━━━━━━━━━━━━━━\u001b[0m \u001b[32m224.5/224.5 kB\u001b[0m \u001b[31m17.1 MB/s\u001b[0m eta \u001b[36m0:00:00\u001b[0m\n",
            "\u001b[?25hInstalling collected packages: tifffile, scipy, pillow, networkx, lazy_loader, imageio, scikit-image\n",
            "Successfully installed imageio-2.34.0 lazy_loader-0.3 networkx-3.2.1 pillow-10.3.0 scikit-image-0.22.0 scipy-1.13.0 tifffile-2024.2.12\n"
          ]
        }
      ],
      "source": [
        "!pip install scikit-image\n",
        "from pycromanager import Acquisition, multi_d_acquisition_events\n",
        "import numpy as np\n",
        "from skimage import draw"
      ]
    },
    {
      "cell_type": "code",
      "execution_count": 15,
      "metadata": {
        "id": "QoZDMjcGSCno"
      },
      "outputs": [],
      "source": [
        "# Set the parameters\n",
        "num_time_points = 100\n",
        "exposure_time_ms = 10\n",
        "channels = ['DAPI']\n"
      ]
    },
    {
      "cell_type": "code",
      "execution_count": 16,
      "metadata": {
        "id": "h390IFJbR7td"
      },
      "outputs": [],
      "source": [
        "# The directory where the data will be saved\n",
        "save_directory = 'C:/Users/chang/Downloads/2024_AssocRDEng_TakeHome/Exercise2'\n",
        "acquisition_name = 'my_acquisition'\n",
        "\n",
        "#Test\n",
        "save_directory = '/Users/changboyen/Downloads/2024_AssocRDEng_TakeHome/Exercise2'"
      ]
    },
    {
      "cell_type": "code",
      "execution_count": 20,
      "metadata": {
        "id": "Zz_JI-ZqUKUu"
      },
      "outputs": [],
      "source": [
        "#Generate Multi_d_acquisition events\n",
        "'''\n",
        "Pycromanager Using multi_d_acquisition_events was inferred from https://pycro-manager.readthedocs.io/en/latest/apis.html#pycromanager.multi_d_acquisition_events\n",
        "'''\n",
        "\n",
        "events = multi_d_acquisition_events(\n",
        "    num_time_points=num_time_points,\n",
        "    channels=channels,\n",
        "    channel_exposures_ms=[exposure_time_ms],\n",
        "    order='tpcz'\n",
        ")\n",
        "\n",
        "## This acquisition does not require adjusting the x and y positions"
      ]
    },
    {
      "cell_type": "code",
      "execution_count": 26,
      "metadata": {
        "id": "1VGTr5oYksxv"
      },
      "outputs": [
        {
          "ename": "Exception",
          "evalue": "Incorrect arguments. \nExpected java.lang.String, java.lang.String, boolean, boolean, int, int, int, int, boolean \nGot <class 'str'>, <class 'str'>, <class 'bool'>, <class 'int'>, <class 'bool'>",
          "output_type": "error",
          "traceback": [
            "\u001b[0;31m---------------------------------------------------------------------------\u001b[0m",
            "\u001b[0;31mException\u001b[0m                                 Traceback (most recent call last)",
            "Cell \u001b[0;32mIn[26], line 12\u001b[0m\n\u001b[1;32m      1\u001b[0m \u001b[38;5;66;03m# \"Extend the acquisition pipeline to inspect each image as it is acquired.“\u001b[39;00m\n\u001b[1;32m      2\u001b[0m \u001b[38;5;124;03m'''\u001b[39;00m\n\u001b[1;32m      3\u001b[0m \u001b[38;5;124;03m#   This code block was inspired by the official example at\u001b[39;00m\n\u001b[1;32m      4\u001b[0m \u001b[38;5;124;03m#   https://github.com/micro-manager/pycro-manager/blob/main/tutorial/Pycro-Manager%20acquisitions%20tutorial.ipynb\u001b[39;00m\n\u001b[0;32m   (...)\u001b[0m\n\u001b[1;32m      9\u001b[0m \n\u001b[1;32m     10\u001b[0m \u001b[38;5;124;03m'''\u001b[39;00m\n\u001b[0;32m---> 12\u001b[0m \u001b[38;5;28;01mwith\u001b[39;00m \u001b[43mAcquisition\u001b[49m\u001b[43m(\u001b[49m\u001b[43mdirectory\u001b[49m\u001b[38;5;241;43m=\u001b[39;49m\u001b[43msave_directory\u001b[49m\u001b[43m,\u001b[49m\u001b[43m \u001b[49m\u001b[43mname\u001b[49m\u001b[38;5;241;43m=\u001b[39;49m\u001b[43m \u001b[49m\u001b[43macquisition_name\u001b[49m\u001b[43m)\u001b[49m \u001b[38;5;28;01mas\u001b[39;00m acq:\n\u001b[1;32m     13\u001b[0m     \u001b[38;5;28;01mfor\u001b[39;00m event \u001b[38;5;129;01min\u001b[39;00m events:\n\u001b[1;32m     14\u001b[0m         \u001b[38;5;66;03m# Get current Images in each event\u001b[39;00m\n\u001b[1;32m     15\u001b[0m         image \u001b[38;5;241m=\u001b[39m acq\u001b[38;5;241m.\u001b[39macquire_image(event)\n",
            "File \u001b[0;32m~/miniconda3/lib/python3.12/site-packages/pycromanager/acquisition/acq_constructor.py:45\u001b[0m, in \u001b[0;36mAcquisition.__new__\u001b[0;34m(cls, directory, name, image_process_fn, event_generation_hook_fn, pre_hardware_hook_fn, post_hardware_hook_fn, post_camera_hook_fn, notification_callback_fn, image_saved_fn, napari_viewer, debug, **kwargs)\u001b[0m\n\u001b[1;32m     43\u001b[0m     \u001b[38;5;28;01mif\u001b[39;00m name \u001b[38;5;129;01min\u001b[39;00m kwargs:\n\u001b[1;32m     44\u001b[0m         named_args[name] \u001b[38;5;241m=\u001b[39m kwargs[name]\n\u001b[0;32m---> 45\u001b[0m \u001b[38;5;28;01mreturn\u001b[39;00m \u001b[43mJavaBackendAcquisition\u001b[49m\u001b[43m(\u001b[49m\u001b[38;5;241;43m*\u001b[39;49m\u001b[38;5;241;43m*\u001b[39;49m\u001b[43mnamed_args\u001b[49m\u001b[43m)\u001b[49m\n",
            "File \u001b[0;32m~/miniconda3/lib/python3.12/site-packages/pycromanager/acquisition/java_backend_acquisitions.py:269\u001b[0m, in \u001b[0;36mJavaBackendAcquisition.__init__\u001b[0;34m(self, directory, name, image_process_fn, event_generation_hook_fn, pre_hardware_hook_fn, post_hardware_hook_fn, post_camera_hook_fn, notification_callback_fn, image_saved_fn, show_display, napari_viewer, saving_queue_size, timeout, port, debug)\u001b[0m\n\u001b[1;32m    266\u001b[0m \u001b[38;5;28mself\u001b[39m\u001b[38;5;241m.\u001b[39m_nd_viewer \u001b[38;5;241m=\u001b[39m \u001b[38;5;28;01mNone\u001b[39;00m\n\u001b[1;32m    268\u001b[0m \u001b[38;5;28mself\u001b[39m\u001b[38;5;241m.\u001b[39m_create_event_queue()\n\u001b[0;32m--> 269\u001b[0m \u001b[38;5;28;43mself\u001b[39;49m\u001b[38;5;241;43m.\u001b[39;49m\u001b[43m_create_remote_acquisition\u001b[49m\u001b[43m(\u001b[49m\u001b[38;5;241;43m*\u001b[39;49m\u001b[38;5;241;43m*\u001b[39;49m\u001b[43mnamed_args\u001b[49m\u001b[43m)\u001b[49m\n\u001b[1;32m    270\u001b[0m \u001b[38;5;28mself\u001b[39m\u001b[38;5;241m.\u001b[39m_initialize_image_processor(\u001b[38;5;241m*\u001b[39m\u001b[38;5;241m*\u001b[39mnamed_args)\n\u001b[1;32m    271\u001b[0m \u001b[38;5;28mself\u001b[39m\u001b[38;5;241m.\u001b[39m_initialize_hooks(\u001b[38;5;241m*\u001b[39m\u001b[38;5;241m*\u001b[39mnamed_args)\n",
            "File \u001b[0;32m~/miniconda3/lib/python3.12/site-packages/pycromanager/acquisition/java_backend_acquisitions.py:515\u001b[0m, in \u001b[0;36mJavaBackendAcquisition._create_remote_acquisition\u001b[0;34m(self, **kwargs)\u001b[0m\n\u001b[1;32m    509\u001b[0m acq_factory \u001b[38;5;241m=\u001b[39m JavaObject(\u001b[38;5;124m\"\u001b[39m\u001b[38;5;124morg.micromanager.remote.RemoteAcquisitionFactory\u001b[39m\u001b[38;5;124m\"\u001b[39m,\n\u001b[1;32m    510\u001b[0m     \u001b[38;5;66;03m# create a new socket for it to run on so that it can have blocking calls without interfering with\u001b[39;00m\n\u001b[1;32m    511\u001b[0m     \u001b[38;5;66;03m# the main socket or other internal sockets\u001b[39;00m\n\u001b[1;32m    512\u001b[0m     new_socket\u001b[38;5;241m=\u001b[39m\u001b[38;5;28;01mTrue\u001b[39;00m,\n\u001b[1;32m    513\u001b[0m     port\u001b[38;5;241m=\u001b[39m\u001b[38;5;28mself\u001b[39m\u001b[38;5;241m.\u001b[39m_port, args\u001b[38;5;241m=\u001b[39m[core], debug\u001b[38;5;241m=\u001b[39m\u001b[38;5;28mself\u001b[39m\u001b[38;5;241m.\u001b[39m_debug, timeout\u001b[38;5;241m=\u001b[39m\u001b[38;5;28mself\u001b[39m\u001b[38;5;241m.\u001b[39m_timeout)\n\u001b[1;32m    514\u001b[0m show_viewer \u001b[38;5;241m=\u001b[39m kwargs[\u001b[38;5;124m'\u001b[39m\u001b[38;5;124mshow_display\u001b[39m\u001b[38;5;124m'\u001b[39m] \u001b[38;5;129;01mis\u001b[39;00m \u001b[38;5;28;01mTrue\u001b[39;00m \u001b[38;5;129;01mand\u001b[39;00m kwargs[\u001b[38;5;124m'\u001b[39m\u001b[38;5;124mnapari_viewer\u001b[39m\u001b[38;5;124m'\u001b[39m] \u001b[38;5;129;01mis\u001b[39;00m \u001b[38;5;28;01mNone\u001b[39;00m\n\u001b[0;32m--> 515\u001b[0m \u001b[38;5;28mself\u001b[39m\u001b[38;5;241m.\u001b[39m_acq \u001b[38;5;241m=\u001b[39m \u001b[43macq_factory\u001b[49m\u001b[38;5;241;43m.\u001b[39;49m\u001b[43mcreate_acquisition\u001b[49m\u001b[43m(\u001b[49m\u001b[43mkwargs\u001b[49m\u001b[43m[\u001b[49m\u001b[38;5;124;43m'\u001b[39;49m\u001b[38;5;124;43mdirectory\u001b[39;49m\u001b[38;5;124;43m'\u001b[39;49m\u001b[43m]\u001b[49m\u001b[43m,\u001b[49m\u001b[43m \u001b[49m\u001b[43mkwargs\u001b[49m\u001b[43m[\u001b[49m\u001b[38;5;124;43m'\u001b[39;49m\u001b[38;5;124;43mname\u001b[39;49m\u001b[38;5;124;43m'\u001b[39;49m\u001b[43m]\u001b[49m\u001b[43m,\u001b[49m\u001b[43m \u001b[49m\u001b[43mshow_viewer\u001b[49m\u001b[43m,\u001b[49m\n\u001b[1;32m    516\u001b[0m \u001b[43m                                           \u001b[49m\u001b[43mkwargs\u001b[49m\u001b[43m[\u001b[49m\u001b[38;5;124;43m'\u001b[39;49m\u001b[38;5;124;43msaving_queue_size\u001b[39;49m\u001b[38;5;124;43m'\u001b[39;49m\u001b[43m]\u001b[49m\u001b[43m,\u001b[49m\u001b[43m \u001b[49m\u001b[38;5;28;43mself\u001b[39;49m\u001b[38;5;241;43m.\u001b[39;49m\u001b[43m_debug\u001b[49m\u001b[43m,\u001b[49m\u001b[43m)\u001b[49m\n",
            "File \u001b[0;32m~/miniconda3/lib/python3.12/site-packages/pyjavaz/bridge.py:488\u001b[0m, in \u001b[0;36m_JavaClassFactory.create.<locals>.<lambda>\u001b[0;34m(instance, signatures_list, *args)\u001b[0m\n\u001b[1;32m    482\u001b[0m params, methods_with_name, method_name_modified \u001b[38;5;241m=\u001b[39m _parse_arg_names(\n\u001b[1;32m    483\u001b[0m     methodSpecs, method_name, convert_camel_case\n\u001b[1;32m    484\u001b[0m )\n\u001b[1;32m    485\u001b[0m return_type \u001b[38;5;241m=\u001b[39m methods_with_name[\u001b[38;5;241m0\u001b[39m][\u001b[38;5;124m\"\u001b[39m\u001b[38;5;124mreturn-type\u001b[39m\u001b[38;5;124m\"\u001b[39m]\n\u001b[1;32m    486\u001b[0m fn \u001b[38;5;241m=\u001b[39m \u001b[38;5;28;01mlambda\u001b[39;00m instance, \u001b[38;5;241m*\u001b[39margs, signatures_list\u001b[38;5;241m=\u001b[39m\u001b[38;5;28mtuple\u001b[39m(\n\u001b[1;32m    487\u001b[0m     methods_with_name\n\u001b[0;32m--> 488\u001b[0m ): \u001b[43minstance\u001b[49m\u001b[38;5;241;43m.\u001b[39;49m\u001b[43m_translate_call\u001b[49m\u001b[43m(\u001b[49m\u001b[43msignatures_list\u001b[49m\u001b[43m,\u001b[49m\u001b[43m \u001b[49m\u001b[43margs\u001b[49m\u001b[43m,\u001b[49m\u001b[43m \u001b[49m\u001b[43mstatic\u001b[49m\u001b[38;5;241;43m=\u001b[39;49m\u001b[43m_java_class\u001b[49m\u001b[43m \u001b[49m\u001b[38;5;241;43m==\u001b[39;49m\u001b[43m \u001b[49m\u001b[38;5;124;43m'\u001b[39;49m\u001b[38;5;124;43mjava.lang.Class\u001b[39;49m\u001b[38;5;124;43m'\u001b[39;49m\u001b[43m)\u001b[49m\n\u001b[1;32m    489\u001b[0m fn\u001b[38;5;241m.\u001b[39m\u001b[38;5;18m__name__\u001b[39m \u001b[38;5;241m=\u001b[39m method_name_modified\n\u001b[1;32m    490\u001b[0m fn\u001b[38;5;241m.\u001b[39m\u001b[38;5;18m__doc__\u001b[39m \u001b[38;5;241m=\u001b[39m \u001b[38;5;124m\"\u001b[39m\u001b[38;5;132;01m{}\u001b[39;00m\u001b[38;5;124m.\u001b[39m\u001b[38;5;132;01m{}\u001b[39;00m\u001b[38;5;124m: A dynamically generated Java method.\u001b[39m\u001b[38;5;124m\"\u001b[39m\u001b[38;5;241m.\u001b[39mformat(\n\u001b[1;32m    491\u001b[0m     _java_class, method_name_modified\n\u001b[1;32m    492\u001b[0m )\n",
            "File \u001b[0;32m~/miniconda3/lib/python3.12/site-packages/pyjavaz/bridge.py:698\u001b[0m, in \u001b[0;36m_JavaObjectShadow._translate_call\u001b[0;34m(self, method_specs, fn_args, static)\u001b[0m\n\u001b[1;32m    686\u001b[0m \u001b[38;5;250m\u001b[39m\u001b[38;5;124;03m\"\"\"\u001b[39;00m\n\u001b[1;32m    687\u001b[0m \u001b[38;5;124;03mTranslate to appropriate Java method, call it, and return converted python version of its result\u001b[39;00m\n\u001b[1;32m    688\u001b[0m \u001b[38;5;124;03mParameters\u001b[39;00m\n\u001b[0;32m   (...)\u001b[0m\n\u001b[1;32m    693\u001b[0m \u001b[38;5;124;03m     hold possible polymorphic args, or none\u001b[39;00m\n\u001b[1;32m    694\u001b[0m \u001b[38;5;124;03m\"\"\"\u001b[39;00m\n\u001b[1;32m    696\u001b[0m \u001b[38;5;66;03m# args that are none are placeholders to allow for polymorphism and not considered part of the spec\u001b[39;00m\n\u001b[1;32m    697\u001b[0m \u001b[38;5;66;03m# fn_args = [a for a in fn_args if a is not None]\u001b[39;00m\n\u001b[0;32m--> 698\u001b[0m valid_method_spec, deserialize_types \u001b[38;5;241m=\u001b[39m \u001b[43m_check_method_args\u001b[49m\u001b[43m(\u001b[49m\u001b[43mmethod_specs\u001b[49m\u001b[43m,\u001b[49m\u001b[43m \u001b[49m\u001b[43mfn_args\u001b[49m\u001b[43m)\u001b[49m\n\u001b[1;32m    699\u001b[0m \u001b[38;5;66;03m# args are good, make call through socket, casting the correct type if needed (e.g. int to float)\u001b[39;00m\n\u001b[1;32m    700\u001b[0m message \u001b[38;5;241m=\u001b[39m {\n\u001b[1;32m    701\u001b[0m     \u001b[38;5;124m\"\u001b[39m\u001b[38;5;124mcommand\u001b[39m\u001b[38;5;124m\"\u001b[39m: \u001b[38;5;124m\"\u001b[39m\u001b[38;5;124mrun-method\u001b[39m\u001b[38;5;124m\"\u001b[39m,\n\u001b[1;32m    702\u001b[0m     \u001b[38;5;124m\"\u001b[39m\u001b[38;5;124mstatic\u001b[39m\u001b[38;5;124m\"\u001b[39m: static,\n\u001b[0;32m   (...)\u001b[0m\n\u001b[1;32m    707\u001b[0m     \u001b[38;5;124m\"\u001b[39m\u001b[38;5;124margument-deserialization-types\u001b[39m\u001b[38;5;124m\"\u001b[39m: deserialize_types,\n\u001b[1;32m    708\u001b[0m }\n",
            "File \u001b[0;32m~/miniconda3/lib/python3.12/site-packages/pyjavaz/bridge.py:870\u001b[0m, in \u001b[0;36m_check_method_args\u001b[0;34m(method_specs, fn_args)\u001b[0m\n\u001b[1;32m    867\u001b[0m         \u001b[38;5;28;01mbreak\u001b[39;00m\n\u001b[1;32m    869\u001b[0m \u001b[38;5;28;01mif\u001b[39;00m valid_method_spec \u001b[38;5;129;01mis\u001b[39;00m \u001b[38;5;28;01mNone\u001b[39;00m:\n\u001b[0;32m--> 870\u001b[0m     \u001b[38;5;28;01mraise\u001b[39;00m \u001b[38;5;167;01mException\u001b[39;00m(\n\u001b[1;32m    871\u001b[0m         \u001b[38;5;124m\"\u001b[39m\u001b[38;5;124mIncorrect arguments. \u001b[39m\u001b[38;5;130;01m\\n\u001b[39;00m\u001b[38;5;124mExpected \u001b[39m\u001b[38;5;132;01m{}\u001b[39;00m\u001b[38;5;124m \u001b[39m\u001b[38;5;130;01m\\n\u001b[39;00m\u001b[38;5;124mGot \u001b[39m\u001b[38;5;132;01m{}\u001b[39;00m\u001b[38;5;124m\"\u001b[39m\u001b[38;5;241m.\u001b[39mformat(\n\u001b[1;32m    872\u001b[0m             \u001b[38;5;124m\"\u001b[39m\u001b[38;5;124m or \u001b[39m\u001b[38;5;124m\"\u001b[39m\u001b[38;5;241m.\u001b[39mjoin([\u001b[38;5;124m\"\u001b[39m\u001b[38;5;124m, \u001b[39m\u001b[38;5;124m\"\u001b[39m\u001b[38;5;241m.\u001b[39mjoin(method_spec[\u001b[38;5;124m\"\u001b[39m\u001b[38;5;124marguments\u001b[39m\u001b[38;5;124m\"\u001b[39m]) \u001b[38;5;28;01mfor\u001b[39;00m method_spec \u001b[38;5;129;01min\u001b[39;00m method_specs]),\n\u001b[1;32m    873\u001b[0m             \u001b[38;5;124m\"\u001b[39m\u001b[38;5;124m, \u001b[39m\u001b[38;5;124m\"\u001b[39m\u001b[38;5;241m.\u001b[39mjoin([\u001b[38;5;28mstr\u001b[39m(\u001b[38;5;28mtype\u001b[39m(a)) \u001b[38;5;28;01mfor\u001b[39;00m a \u001b[38;5;129;01min\u001b[39;00m fn_args]),\n\u001b[1;32m    874\u001b[0m         )\n\u001b[1;32m    875\u001b[0m     )\n\u001b[1;32m    877\u001b[0m \u001b[38;5;66;03m# subclass NDArrays to the appropriate data type so they dont get incorrectly reconstructed as objects\u001b[39;00m\n\u001b[1;32m    878\u001b[0m valid_method_spec \u001b[38;5;241m=\u001b[39m copy\u001b[38;5;241m.\u001b[39mdeepcopy(valid_method_spec)\n",
            "\u001b[0;31mException\u001b[0m: Incorrect arguments. \nExpected java.lang.String, java.lang.String, boolean, boolean, int, int, int, int, boolean \nGot <class 'str'>, <class 'str'>, <class 'bool'>, <class 'int'>, <class 'bool'>"
          ]
        }
      ],
      "source": [
        "# \"Extend the acquisition pipeline to inspect each image as it is acquired.“\n",
        "'''\n",
        "#   This code block was inspired by the official example at\n",
        "#   https://github.com/micro-manager/pycro-manager/blob/main/tutorial/Pycro-Manager%20acquisitions%20tutorial.ipynb\n",
        "\n",
        "#   The concept of the \"drawing circle and set value=0 was inspired by\n",
        "    1. np.where: https://stackoverflow.com/questions/69562075/get-coordinates-with-np-where-in-python\n",
        "    2. draw.circle: https://devdoc.net/python/scikit-image-doc-0.13.1/api/skimage.draw.html#skimage.draw.circle\n",
        "\n",
        "'''\n",
        "\n",
        "with Acquisition(directory=save_directory, name= acquisition_name) as acq:\n",
        "    for event in events:\n",
        "        # Get current Images in each event\n",
        "        image = acq.acquire_image(event)\n",
        "\n",
        "        # Processing Images: Locate the position where the pixels = 700\n",
        "        y_coords, x_coords = np.where(image == 700) # Extract the y and x coordinates of pixels with value 700\n",
        "        position700 = zip(y_coords, x_coords)       # Combine the y and x coordinates into pairs\n",
        "\n",
        "        # Traverse all the pixels, and set the pixel value to 0 if it is located within a circular area with a radius of 15.\n",
        "        for y, x in position700:\n",
        "            rr, cc = draw.circle(y, x, 15, shape=image.shape) \n",
        "            image[rr, cc] = 0  # Set those pixels as 0\n",
        "\n",
        "        # Save Modified Image\n",
        "        acq.save_image(image)\n",
        "\n",
        "\n",
        "# When the context manager exits the inspect is complete and the image is saved\n",
        "print(f\"The image saved to {save_directory}/{acquisition_name}\")"
      ]
    },
    {
      "cell_type": "code",
      "execution_count": null,
      "metadata": {},
      "outputs": [],
      "source": []
    }
  ],
  "metadata": {
    "colab": {
      "provenance": []
    },
    "kernelspec": {
      "display_name": "Python 3",
      "name": "python3"
    },
    "language_info": {
      "codemirror_mode": {
        "name": "ipython",
        "version": 3
      },
      "file_extension": ".py",
      "mimetype": "text/x-python",
      "name": "python",
      "nbconvert_exporter": "python",
      "pygments_lexer": "ipython3",
      "version": "3.12.2"
    }
  },
  "nbformat": 4,
  "nbformat_minor": 0
}
