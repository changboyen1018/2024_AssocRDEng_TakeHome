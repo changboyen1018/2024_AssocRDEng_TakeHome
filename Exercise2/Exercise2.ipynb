{
  "nbformat": 4,
  "nbformat_minor": 0,
  "metadata": {
    "colab": {
      "provenance": []
    },
    "kernelspec": {
      "name": "python3",
      "display_name": "Python 3"
    },
    "language_info": {
      "name": "python"
    }
  },
  "cells": [
    {
      "cell_type": "code",
      "source": [
        "'''\n",
        "In this exercise we will simulate real-time data analysis and feedback on a live acquisition system.\n",
        "Since we don’t have a real microscope, this example is a bit contrived, but many of the principles its tests apply to the systems we use in the lab daily.\n",
        "\n",
        "Launch MicroManager as in the previous exercise. Set the camera in “Noise” mode by opening the Device Property Browser and setting the “Mode” property of the “Camera” device to “Noise”.\n",
        "Instead of the wave pattern you will now see images like this: [Img]\n",
        "\n",
        "In a new python script, set up a timelapse acquisition with 100 time points in the DAPI channel with exposure time of 10 ms.\n",
        "Extend your acquisition pipeline to inspect each image as it is acquired. If a pixel has a value of exactly 700 counts,\n",
        "set neighboring pixels within a radius of 15 pixels to zero. Save this modified image in the .tif dataset instead of the original image.\n",
        "\n",
        "A modified image may look something like this: [Img]\n",
        "'''\n"
      ],
      "metadata": {
        "colab": {
          "base_uri": "https://localhost:8080/",
          "height": 143
        },
        "id": "OL_MosY-P123",
        "outputId": "2bc3341a-faab-405c-8d23-acd12f30464e"
      },
      "execution_count": 2,
      "outputs": [
        {
          "output_type": "execute_result",
          "data": {
            "text/plain": [
              "'\\nIn this exercise we will simulate real-time data analysis and feedback on a live acquisition system. \\nSince we don’t have a real microscope, this example is a bit contrived, but many of the principles its tests apply to the systems we use in the lab daily.\\n\\nLaunch MicroManager as in the previous exercise. Set the camera in “Noise” mode by opening the Device Property Browser and setting the “Mode” property of the “Camera” device to “Noise”. \\nInstead of the wave pattern you will now see images like this: [Img]\\n\\nIn a new python script, set up a timelapse acquisition with 100 time points in the DAPI channel with exposure time of 10 ms.\\n\\nExtend your acquisition pipeline to inspect each image as it is acquired. If a pixel has a value of exactly 700 counts, \\nset neighboring pixels within a radius of 15 pixels to zero. Save this modified image in the .tif dataset instead of the original image.\\n\\nA modified image may look something like this: [Img]\\n'"
            ],
            "application/vnd.google.colaboratory.intrinsic+json": {
              "type": "string"
            }
          },
          "metadata": {},
          "execution_count": 2
        }
      ]
    },
    {
      "cell_type": "code",
      "execution_count": null,
      "metadata": {
        "id": "E_5vXZmMOnQk"
      },
      "outputs": [],
      "source": [
        "from pycromanager import Bridge, Acquisition, multi_d_acquisition_events\n",
        "import numpy as np\n",
        "from skimage import draw"
      ]
    },
    {
      "cell_type": "code",
      "source": [
        "## Connection to Micer-Manager (Check if needed)\n",
        "bridge = Bridge()\n",
        "core = bridge.get_core()"
      ],
      "metadata": {
        "id": "WpKRhNeePo2o"
      },
      "execution_count": null,
      "outputs": []
    },
    {
      "cell_type": "code",
      "source": [
        "# Set the parameters\n",
        "\n",
        "num_time_points = 100\n",
        "exposure_time_ms = 10\n",
        "channels = ['DAPI']"
      ],
      "metadata": {
        "id": "QoZDMjcGSCno"
      },
      "execution_count": null,
      "outputs": []
    },
    {
      "cell_type": "code",
      "source": [
        "# The directory where the data will be saved\n",
        "save_directory = 'C:/Users/chang/Downloads/2024_AssocRDEng_TakeHome/Exercise1'\n",
        "acquisition_name = 'my_acquisition'"
      ],
      "metadata": {
        "id": "h390IFJbR7td"
      },
      "execution_count": null,
      "outputs": []
    },
    {
      "cell_type": "code",
      "source": [
        "#Generate Multi_d_acquisition events\n",
        "\n",
        "events = multi_d_acquisition_events(\n",
        "    num_time_points=num_time_points,\n",
        "    time_interval_s=0,\n",
        "    channels=channels,\n",
        "    channel_exposures_ms=[exposure_time_ms],\n",
        "    order='tpcz'\n",
        ")\n",
        "\n",
        "## Omit xy_positions"
      ],
      "metadata": {
        "id": "Zz_JI-ZqUKUu"
      },
      "execution_count": null,
      "outputs": []
    },
    {
      "cell_type": "code",
      "source": [
        "# \"Extend your acquisition pipeline to inspect each image as it is acquired.\n",
        "\n",
        "with Acquisition(directory=save_directory, name= acquisition_name) as acq:\n",
        "    for event in events:\n",
        "        # Get current Images in each event\n",
        "        image = acq.acquire_image(event)\n",
        "\n",
        "        # Processing Images\n",
        "        # Locate the position where the pixels = 700\n",
        "        position700 = np.column_stack(np.where(image == 700))\n",
        "\n",
        "        # Traverse all the pixels, and set the pixel value to 0 if it is located within a circular area with a radius of 15.\n",
        "        for y, x in position700:\n",
        "            rr, cc = draw.circle(y, x, 15, shape=image.shape)\n",
        "            image[rr, cc] = 0  # Set those pixels as 0\n",
        "\n",
        "        # 保存修改后的图像\n",
        "        # 注意：保存逻辑需要根据实际使用的保存函数进行适配\n",
        "        acq.save_image(image)\n",
        "\n",
        "\n",
        "# When the context manager exits the inspect is complete and the image is saved\n",
        "print(f\"The image saved to {save_directory}/{acquisition_name}\")"
      ],
      "metadata": {
        "id": "1VGTr5oYksxv"
      },
      "execution_count": null,
      "outputs": []
    }
  ]
}