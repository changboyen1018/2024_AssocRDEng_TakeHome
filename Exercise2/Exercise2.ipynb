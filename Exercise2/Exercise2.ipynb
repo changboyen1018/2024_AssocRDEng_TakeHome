{
 "cells": [
  {
   "cell_type": "markdown",
   "id": "10cf3497",
   "metadata": {},
   "source": [
    "### Exercise 2: Real-time Data Analysis and Feedback on Live Acquisition ###\n",
    "\n",
    "\"\"\"\n",
    "This script simulates a real-time data analysis and feedback system on a live acquisition setup. Using the MicroManager\n",
    "simulated \"Noise\" mode, it performs a timelapse acquisition in the DAPI channel. Each acquired image is inspected for pixels\n",
    "with a value of exactly 700 counts. For such pixels, neighboring pixels within a 15-pixel radius are set to zero. The\n",
    "modified images are then saved to a .tif dataset.\n",
    "\n",
    "This example illustrates the application of real-time image processing principles to lab systems, despite being a\n",
    "simulated environment.\n",
    "\n",
    "Requirements:\n",
    "- MicroManager in \"Noise\" mode for the camera.\n",
    "- Timelapse acquisition of 100 time points with 10 ms exposure time.\n",
    "- Real-time pixel manipulation based on specific criteria.\n",
    "\n",
    "Acknowledgments:\n",
    "- Use of scikit-image for drawing disk and manipulation was informed by scikit-image documentation.\n",
    "- The image processing technique was conceptualized by micro-manager documentation and discussion forum (https://forum.image.sc/), with the assistance of ChatGPT.\n",
    "\"\"\""
   ]
  },
  {
   "cell_type": "code",
   "execution_count": 2,
   "id": "e3f7b82d",
   "metadata": {},
   "outputs": [
    {
     "name": "stdout",
     "output_type": "stream",
     "text": [
      "Requirement already satisfied: scikit-image in /Users/changboyen/miniconda3/lib/python3.12/site-packages (0.22.0)\n",
      "Requirement already satisfied: numpy>=1.22 in /Users/changboyen/miniconda3/lib/python3.12/site-packages (from scikit-image) (1.26.4)\n",
      "Requirement already satisfied: scipy>=1.8 in /Users/changboyen/miniconda3/lib/python3.12/site-packages (from scikit-image) (1.13.0)\n",
      "Requirement already satisfied: networkx>=2.8 in /Users/changboyen/miniconda3/lib/python3.12/site-packages (from scikit-image) (3.2.1)\n",
      "Requirement already satisfied: pillow>=9.0.1 in /Users/changboyen/miniconda3/lib/python3.12/site-packages (from scikit-image) (10.3.0)\n",
      "Requirement already satisfied: imageio>=2.27 in /Users/changboyen/miniconda3/lib/python3.12/site-packages (from scikit-image) (2.34.0)\n",
      "Requirement already satisfied: tifffile>=2022.8.12 in /Users/changboyen/miniconda3/lib/python3.12/site-packages (from scikit-image) (2024.2.12)\n",
      "Requirement already satisfied: packaging>=21 in /Users/changboyen/miniconda3/lib/python3.12/site-packages (from scikit-image) (23.1)\n",
      "Requirement already satisfied: lazy_loader>=0.3 in /Users/changboyen/miniconda3/lib/python3.12/site-packages (from scikit-image) (0.3)\n"
     ]
    },
    {
     "ename": "Exception",
     "evalue": "Couldn't create Core. Is Micro-Manager running and is the ZMQ server on 4827 option enabled?",
     "output_type": "error",
     "traceback": [
      "\u001b[0;31m---------------------------------------------------------------------------\u001b[0m",
      "\u001b[0;31mException\u001b[0m                                 Traceback (most recent call last)",
      "File \u001b[0;32m~/miniconda3/lib/python3.12/site-packages/pycromanager/mm_java_classes.py:85\u001b[0m, in \u001b[0;36mZMQRemoteMMCoreJ.__new__\u001b[0;34m(cls, convert_camel_case, port, new_socket, debug, timeout)\u001b[0m\n\u001b[1;32m     84\u001b[0m \u001b[38;5;28;01mtry\u001b[39;00m:\n\u001b[0;32m---> 85\u001b[0m     \u001b[38;5;28;01mreturn\u001b[39;00m \u001b[43mJavaObject\u001b[49m\u001b[43m(\u001b[49m\u001b[38;5;124;43m\"\u001b[39;49m\u001b[38;5;124;43mmmcorej.CMMCore\u001b[39;49m\u001b[38;5;124;43m\"\u001b[39;49m\u001b[43m,\u001b[49m\u001b[43m \u001b[49m\u001b[43mnew_socket\u001b[49m\u001b[38;5;241;43m=\u001b[39;49m\u001b[43mnew_socket\u001b[49m\u001b[43m,\u001b[49m\n\u001b[1;32m     86\u001b[0m \u001b[43m              \u001b[49m\u001b[43mport\u001b[49m\u001b[38;5;241;43m=\u001b[39;49m\u001b[43mport\u001b[49m\u001b[43m,\u001b[49m\u001b[43m \u001b[49m\u001b[43mtimeout\u001b[49m\u001b[38;5;241;43m=\u001b[39;49m\u001b[43mtimeout\u001b[49m\u001b[43m,\u001b[49m\u001b[43m \u001b[49m\u001b[43mconvert_camel_case\u001b[49m\u001b[38;5;241;43m=\u001b[39;49m\u001b[43mconvert_camel_case\u001b[49m\u001b[43m,\u001b[49m\u001b[43m \u001b[49m\u001b[43mdebug\u001b[49m\u001b[38;5;241;43m=\u001b[39;49m\u001b[43mdebug\u001b[49m\u001b[43m)\u001b[49m\n\u001b[1;32m     87\u001b[0m \u001b[38;5;28;01mexcept\u001b[39;00m \u001b[38;5;167;01mException\u001b[39;00m \u001b[38;5;28;01mas\u001b[39;00m e:\n",
      "File \u001b[0;32m~/miniconda3/lib/python3.12/site-packages/pyjavaz/wrappers.py:73\u001b[0m, in \u001b[0;36mJavaObject.__new__\u001b[0;34m(cls, classpath, args, port, timeout, new_socket, convert_camel_case, debug)\u001b[0m\n\u001b[1;32m     56\u001b[0m \u001b[38;5;250m\u001b[39m\u001b[38;5;124;03m\"\"\"\u001b[39;00m\n\u001b[1;32m     57\u001b[0m \u001b[38;5;124;03mclasspath: str\u001b[39;00m\n\u001b[1;32m     58\u001b[0m \u001b[38;5;124;03m    Full classpath of the java object\u001b[39;00m\n\u001b[0;32m   (...)\u001b[0m\n\u001b[1;32m     71\u001b[0m \u001b[38;5;124;03m    print debug messages\u001b[39;00m\n\u001b[1;32m     72\u001b[0m \u001b[38;5;124;03m\"\"\"\u001b[39;00m\n\u001b[0;32m---> 73\u001b[0m bridge \u001b[38;5;241m=\u001b[39m \u001b[43m_Bridge\u001b[49m\u001b[38;5;241;43m.\u001b[39;49m\u001b[43mcreate_or_get_existing_bridge\u001b[49m\u001b[43m(\u001b[49m\u001b[43mport\u001b[49m\u001b[38;5;241;43m=\u001b[39;49m\u001b[43mport\u001b[49m\u001b[43m,\u001b[49m\u001b[43m \u001b[49m\u001b[43mtimeout\u001b[49m\u001b[38;5;241;43m=\u001b[39;49m\u001b[43mtimeout\u001b[49m\u001b[43m,\u001b[49m\u001b[43m \u001b[49m\u001b[43mconvert_camel_case\u001b[49m\u001b[38;5;241;43m=\u001b[39;49m\u001b[43mconvert_camel_case\u001b[49m\u001b[43m,\u001b[49m\u001b[43m \u001b[49m\u001b[43mdebug\u001b[49m\u001b[38;5;241;43m=\u001b[39;49m\u001b[43mdebug\u001b[49m\u001b[43m)\u001b[49m\n\u001b[1;32m     74\u001b[0m \u001b[38;5;28;01mreturn\u001b[39;00m bridge\u001b[38;5;241m.\u001b[39m_construct_java_object(classpath, new_socket\u001b[38;5;241m=\u001b[39mnew_socket, args\u001b[38;5;241m=\u001b[39margs)\n",
      "File \u001b[0;32m~/miniconda3/lib/python3.12/site-packages/pyjavaz/bridge.py:259\u001b[0m, in \u001b[0;36m_Bridge.create_or_get_existing_bridge\u001b[0;34m(port, convert_camel_case, debug, ip_address, timeout, iterate)\u001b[0m\n\u001b[1;32m    257\u001b[0m     logging\u001b[38;5;241m.\u001b[39mmain_logger\u001b[38;5;241m.\u001b[39mdebug(\u001b[38;5;124m\"\u001b[39m\u001b[38;5;124mcreating new bridge for port \u001b[39m\u001b[38;5;132;01m{}\u001b[39;00m\u001b[38;5;124m thread \u001b[39m\u001b[38;5;132;01m{}\u001b[39;00m\u001b[38;5;124m\"\u001b[39m\u001b[38;5;241m.\u001b[39mformat(\n\u001b[1;32m    258\u001b[0m         port, threading\u001b[38;5;241m.\u001b[39mcurrent_thread()\u001b[38;5;241m.\u001b[39mname))\n\u001b[0;32m--> 259\u001b[0m b \u001b[38;5;241m=\u001b[39m \u001b[43m_Bridge\u001b[49m\u001b[43m(\u001b[49m\u001b[43mport\u001b[49m\u001b[43m,\u001b[49m\u001b[43m \u001b[49m\u001b[43mconvert_camel_case\u001b[49m\u001b[43m,\u001b[49m\u001b[43m \u001b[49m\u001b[43mdebug\u001b[49m\u001b[43m,\u001b[49m\u001b[43m \u001b[49m\u001b[43mip_address\u001b[49m\u001b[43m,\u001b[49m\u001b[43m \u001b[49m\u001b[43mtimeout\u001b[49m\u001b[43m,\u001b[49m\u001b[43m \u001b[49m\u001b[43miterate\u001b[49m\u001b[43m)\u001b[49m\n\u001b[1;32m    260\u001b[0m \u001b[38;5;66;03m# store weak refs so that the existence of thread/port bridge caching doesn't prevent\u001b[39;00m\n\u001b[1;32m    261\u001b[0m \u001b[38;5;66;03m# the garbage collection of unused bridge objects\u001b[39;00m\n",
      "File \u001b[0;32m~/miniconda3/lib/python3.12/site-packages/pyjavaz/bridge.py:300\u001b[0m, in \u001b[0;36m_Bridge.__init__\u001b[0;34m(self, port, convert_camel_case, debug, ip_address, timeout, iterate)\u001b[0m\n\u001b[1;32m    299\u001b[0m \u001b[38;5;28;01mif\u001b[39;00m reply_json \u001b[38;5;129;01mis\u001b[39;00m \u001b[38;5;28;01mNone\u001b[39;00m:\n\u001b[0;32m--> 300\u001b[0m      \u001b[38;5;28;01mraise\u001b[39;00m \u001b[38;5;167;01mException\u001b[39;00m(\n\u001b[1;32m    301\u001b[0m         \u001b[38;5;124mf\u001b[39m\u001b[38;5;124m\"\u001b[39m\u001b[38;5;124mSocket timed out after \u001b[39m\u001b[38;5;132;01m{\u001b[39;00mtimeout\u001b[38;5;132;01m}\u001b[39;00m\u001b[38;5;124m milliseconds\u001b[39m\u001b[38;5;124m\"\u001b[39m\n\u001b[1;32m    302\u001b[0m     )\n\u001b[1;32m    303\u001b[0m \u001b[38;5;28;01mif\u001b[39;00m reply_json[\u001b[38;5;124m\"\u001b[39m\u001b[38;5;124mtype\u001b[39m\u001b[38;5;124m\"\u001b[39m] \u001b[38;5;241m==\u001b[39m \u001b[38;5;124m\"\u001b[39m\u001b[38;5;124mexception\u001b[39m\u001b[38;5;124m\"\u001b[39m:\n",
      "\u001b[0;31mException\u001b[0m: Socket timed out after 1000 milliseconds",
      "\nDuring handling of the above exception, another exception occurred:\n",
      "\u001b[0;31mException\u001b[0m                                 Traceback (most recent call last)",
      "Cell \u001b[0;32mIn[2], line 8\u001b[0m\n\u001b[1;32m      5\u001b[0m \u001b[38;5;28;01mfrom\u001b[39;00m \u001b[38;5;21;01mskimage\u001b[39;00m \u001b[38;5;28;01mimport\u001b[39;00m draw\n\u001b[1;32m      7\u001b[0m \u001b[38;5;66;03m# Initialize MicroManager Core\u001b[39;00m\n\u001b[0;32m----> 8\u001b[0m core \u001b[38;5;241m=\u001b[39m \u001b[43mCore\u001b[49m\u001b[43m(\u001b[49m\u001b[43m)\u001b[49m\n",
      "File \u001b[0;32m~/miniconda3/lib/python3.12/site-packages/pycromanager/core.py:14\u001b[0m, in \u001b[0;36mCore.__new__\u001b[0;34m(cls, **kwargs)\u001b[0m\n\u001b[1;32m     12\u001b[0m     \u001b[38;5;28;01mreturn\u001b[39;00m _PYMMCORES[\u001b[38;5;241m0\u001b[39m]\n\u001b[1;32m     13\u001b[0m \u001b[38;5;28;01melse\u001b[39;00m:\n\u001b[0;32m---> 14\u001b[0m     \u001b[38;5;28;01mreturn\u001b[39;00m \u001b[43mZMQRemoteMMCoreJ\u001b[49m\u001b[43m(\u001b[49m\u001b[38;5;241;43m*\u001b[39;49m\u001b[38;5;241;43m*\u001b[39;49m\u001b[43mkwargs\u001b[49m\u001b[43m)\u001b[49m\n",
      "File \u001b[0;32m~/miniconda3/lib/python3.12/site-packages/pycromanager/mm_java_classes.py:88\u001b[0m, in \u001b[0;36mZMQRemoteMMCoreJ.__new__\u001b[0;34m(cls, convert_camel_case, port, new_socket, debug, timeout)\u001b[0m\n\u001b[1;32m     85\u001b[0m     \u001b[38;5;28;01mreturn\u001b[39;00m JavaObject(\u001b[38;5;124m\"\u001b[39m\u001b[38;5;124mmmcorej.CMMCore\u001b[39m\u001b[38;5;124m\"\u001b[39m, new_socket\u001b[38;5;241m=\u001b[39mnew_socket,\n\u001b[1;32m     86\u001b[0m               port\u001b[38;5;241m=\u001b[39mport, timeout\u001b[38;5;241m=\u001b[39mtimeout, convert_camel_case\u001b[38;5;241m=\u001b[39mconvert_camel_case, debug\u001b[38;5;241m=\u001b[39mdebug)\n\u001b[1;32m     87\u001b[0m \u001b[38;5;28;01mexcept\u001b[39;00m \u001b[38;5;167;01mException\u001b[39;00m \u001b[38;5;28;01mas\u001b[39;00m e:\n\u001b[0;32m---> 88\u001b[0m     \u001b[38;5;28;01mraise\u001b[39;00m \u001b[38;5;167;01mException\u001b[39;00m(\u001b[38;5;124mf\u001b[39m\u001b[38;5;124m\"\u001b[39m\u001b[38;5;124mCouldn\u001b[39m\u001b[38;5;124m'\u001b[39m\u001b[38;5;124mt create Core. Is Micro-Manager running and is the ZMQ server on \u001b[39m\u001b[38;5;132;01m{\u001b[39;00mport\u001b[38;5;132;01m}\u001b[39;00m\u001b[38;5;124m option enabled?\u001b[39m\u001b[38;5;124m\"\u001b[39m)\n",
      "\u001b[0;31mException\u001b[0m: Couldn't create Core. Is Micro-Manager running and is the ZMQ server on 4827 option enabled?"
     ]
    }
   ],
   "source": [
    "# Step 1: Import necessary libraries\n",
    "!pip install scikit-image\n",
    "from pycromanager import Acquisition, multi_d_acquisition_events, Core\n",
    "import numpy as np\n",
    "from skimage import draw\n",
    "\n",
    "# Initialize MicroManager Core\n",
    "core = Core()"
   ]
  },
  {
   "cell_type": "code",
   "execution_count": 2,
   "id": "df346fa4",
   "metadata": {},
   "outputs": [],
   "source": [
    "# Step 2: Set acquisition parameters\n",
    "num_time_points = 100   # Total number of time points for timelapse\n",
    "exposure_time_ms = 10   # Exposure time in milliseconds\n",
    "channels = ['DAPI']     # Acquisition channel"
   ]
  },
  {
   "cell_type": "code",
   "execution_count": 3,
   "id": "cae5f7ec",
   "metadata": {},
   "outputs": [],
   "source": [
    "# Specify the directory for saving the data\n",
    "save_directory = 'C:/Users/chang/Downloads/2024_AssocRDEng_TakeHome/Exercise2'\n",
    "acquisition_name = 'my_acquisition'    "
   ]
  },
  {
   "cell_type": "code",
   "execution_count": 4,
   "id": "257b6214",
   "metadata": {},
   "outputs": [],
   "source": [
    "# Step 3: Generate multi-dimensional acquisition events\n",
    "# Note: This acquisition setup does not require adjustments to the x and y positions.\n",
    "## Same inspiration in Exercise1: multi_d_acquisition_events() in pycromanager official document\n",
    "\n",
    "events = multi_d_acquisition_events(\n",
    "    num_time_points=num_time_points,\n",
    "    channels=channels,\n",
    "    channel_exposures_ms=[exposure_time_ms],\n",
    ")"
   ]
  },
  {
   "cell_type": "code",
   "execution_count": 1,
   "id": "dcb451e6",
   "metadata": {},
   "outputs": [
    {
     "ename": "NameError",
     "evalue": "name 'Acquisition' is not defined",
     "output_type": "error",
     "traceback": [
      "\u001b[0;31m---------------------------------------------------------------------------\u001b[0m",
      "\u001b[0;31mNameError\u001b[0m                                 Traceback (most recent call last)",
      "Cell \u001b[0;32mIn[1], line 45\u001b[0m\n\u001b[1;32m     40\u001b[0m     \u001b[38;5;28;01mreturn\u001b[39;00m modified_image, metadata\n\u001b[1;32m     43\u001b[0m \u001b[38;5;66;03m# Step 5: Perform the acquisition and real-time image processing\u001b[39;00m\n\u001b[1;32m     44\u001b[0m \u001b[38;5;66;03m## Using Acquisition to do image acquisition, and send image into image_process_fn()\u001b[39;00m\n\u001b[0;32m---> 45\u001b[0m \u001b[38;5;28;01mwith\u001b[39;00m \u001b[43mAcquisition\u001b[49m(directory\u001b[38;5;241m=\u001b[39msave_directory, name\u001b[38;5;241m=\u001b[39macquisition_name,image_process_fn\u001b[38;5;241m=\u001b[39mimage_processor_fn) \u001b[38;5;28;01mas\u001b[39;00m acq:\n\u001b[1;32m     46\u001b[0m     \u001b[38;5;28;01mfor\u001b[39;00m i, event \u001b[38;5;129;01min\u001b[39;00m \u001b[38;5;28menumerate\u001b[39m(events):\n\u001b[1;32m     47\u001b[0m         \u001b[38;5;28;01mtry\u001b[39;00m:\n",
      "\u001b[0;31mNameError\u001b[0m: name 'Acquisition' is not defined"
     ]
    }
   ],
   "source": [
    "'''\n",
    "Acknowledgment: \n",
    "# The image_process_fn() was inspired by official document: https://pycro-manager.readthedocs.io/en/latest/apis.html\n",
    "# The use of call- out definition function instead of inserting in Acqusition was inspired by (https://pycro-manager.readthedocs.io/en/latest/apis.html) and (https://pycro-manager.readthedocs.io/en/latest/img_processors.html)\n",
    "# The use of scikit-image for drawing disk and manipulation was informed by scikit-image documentation.\n",
    "\n",
    "'''\n",
    "\n",
    "# Step 4: Define the image processing function\n",
    "def process_image(image):\n",
    "    \"\"\"Inspect and modify the image based on specific pixel values.\"\"\"\n",
    "    print(\"Original image shape:\", image.shape)\n",
    "    \n",
    "    # Find pixels with exactly 700 counts\n",
    "    position700 = np.column_stack(np.where(image == 700))\n",
    "    print(position700)         # To see whether the position \"image=700\" exists in the random acquisition of the noise\n",
    "    for y, x in position700:\n",
    "        y, x = int(y), int(x)\n",
    "\n",
    "        # Set neighboring pixels within a radius of 15 to zero\n",
    "        ## rr, cc = draw.circle(y, x, 15, shape=image.shape) ## draw.corcle() is an old function that cannot be fit\n",
    "        rr, cc = draw.disk((y, x), 15, shape=image.shape)\n",
    "        image[rr.astype(int), cc.astype(int)] = 0\n",
    "        \n",
    "        print(image) # Print out to check that the shape and type of image are correct\n",
    "        \n",
    "    return image\n",
    "\n",
    "\n",
    "def image_processor_fn(image, metadata, event):\n",
    "    \"\"\"Process each acquired image in real-time.\"\"\"\n",
    "    # Print out to ensure this function has been correctly executed and  'image' and 'event' are the correct data types\n",
    "    print(\"The type of image\", type(image))\n",
    "    print(\"The type of event\", type(metadata))\n",
    "\n",
    "    modified_image = process_image(image)\n",
    "    print(\"Finished one of the Images!\")\n",
    "    \n",
    "    # Return to modified image and event(metadata)\n",
    "    return modified_image, metadata\n",
    "\n",
    "\n",
    "# Step 5: Perform the acquisition and real-time image processing\n",
    "## Using Acquisition to do image acquisition, and send image into image_process_fn()\n",
    "with Acquisition(directory=save_directory, name=acquisition_name,image_process_fn=image_processor_fn) as acq:\n",
    "    for i, event in enumerate(events):\n",
    "        try:\n",
    "            acq.acquire(event)  \n",
    "            print(f\"Acquisition for event {i} done.\") \n",
    "        except Exception as e:\n",
    "            print(f\"Error during acquisition for event {i}: {e}\") \n",
    "    \n",
    "\n",
    "# Step 6: Confirm completion\n",
    "print(\"All IMAGES ARE FINISHED!\")\n",
    "print(f\"The images have been processed and saved to {save_directory}/{acquisition_name}\")\n"
   ]
  },
  {
   "cell_type": "code",
   "execution_count": null,
   "id": "ad1f4e25",
   "metadata": {},
   "outputs": [],
   "source": []
  }
 ],
 "metadata": {
  "kernelspec": {
   "display_name": "base",
   "language": "python",
   "name": "python3"
  },
  "language_info": {
   "codemirror_mode": {
    "name": "ipython",
    "version": 3
   },
   "file_extension": ".py",
   "mimetype": "text/x-python",
   "name": "python",
   "nbconvert_exporter": "python",
   "pygments_lexer": "ipython3",
   "version": "3.12.2"
  }
 },
 "nbformat": 4,
 "nbformat_minor": 5
}
